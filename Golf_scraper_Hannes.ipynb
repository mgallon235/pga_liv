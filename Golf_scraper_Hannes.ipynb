{
 "cells": [
  {
   "cell_type": "code",
   "execution_count": 2,
   "metadata": {},
   "outputs": [],
   "source": [
    "#Loading packages\n",
    "import pandas as pd\n",
    "import numpy as np\n",
    "import requests\n",
    "from bs4 import BeautifulSoup\n",
    "import os\n",
    "from selenium import webdriver\n",
    "import re\n",
    "#import scrape_functions_un as kzd\n",
    "import scraping_model as sm"
   ]
  },
  {
   "cell_type": "markdown",
   "metadata": {},
   "source": [
    "## Players Dictionary"
   ]
  },
  {
   "cell_type": "code",
   "execution_count": 6,
   "metadata": {},
   "outputs": [],
   "source": [
    "players_names = {'Rory McIlroy': '17419',\n",
    "            'Tiger Woods': '10085', \n",
    "            'Jordan Spieth': '19976',\n",
    "            'Justin Thomas': '20037',\n",
    "            'Scottie Scheffler': '25786',\n",
    "            'Collin Morikawa': '33992',\n",
    "            'Sergio García': '10170',\n",
    "            'Dustin Johnson': '17976',\n",
    "            'Phil Mickelson': '10083',\n",
    "            'Ian Poulter': '11956',\n",
    "            'Talor Gooch': '27168',\n",
    "            'Cameron Smith': '27755',\n",
    "            'Joaquín Niemann': '33997',\n",
    "            'Bryson DeChambeau': '29148',\n",
    "            'Brooks Koepka': '25730',\n",
    "            'Jon Rahm': '28177'}"
   ]
  },
  {
   "cell_type": "markdown",
   "metadata": {},
   "source": [
    "### We want to get all the dates and urls for each of the player's pages"
   ]
  },
  {
   "cell_type": "code",
   "execution_count": 7,
   "metadata": {},
   "outputs": [],
   "source": [
    "niemann_url = 'https://www.asapsports.com/show_player.php?id=33997'\n",
    "\n",
    "response = requests.get(niemann_url)\n",
    "soup = BeautifulSoup(response.text, 'html.parser')\n",
    "dates_niemann = soup.find_all('b')"
   ]
  },
  {
   "cell_type": "code",
   "execution_count": 40,
   "metadata": {},
   "outputs": [],
   "source": [
    "## Retrieving player interview links\n",
    "links = []\n",
    "for row in dates_niemann:\n",
    "        a_tags = soup.find_all('a', href=True)\n",
    "        \n",
    "for atag in a_tags:\n",
    "    url = atag['href']\n",
    "    if url.startswith('http://www.asapsports.com/show_interview.php?id='):\n",
    "         links.append(url)"
   ]
  },
  {
   "cell_type": "code",
   "execution_count": 43,
   "metadata": {},
   "outputs": [
    {
     "data": {
      "text/plain": [
       "['http://www.asapsports.com/show_interview.php?id=194496',\n",
       " 'http://www.asapsports.com/show_interview.php?id=194475',\n",
       " 'http://www.asapsports.com/show_interview.php?id=194453',\n",
       " 'http://www.asapsports.com/show_interview.php?id=194119',\n",
       " 'http://www.asapsports.com/show_interview.php?id=194102']"
      ]
     },
     "execution_count": 43,
     "metadata": {},
     "output_type": "execute_result"
    }
   ],
   "source": [
    "links[0:5]"
   ]
  },
  {
   "cell_type": "code",
   "execution_count": 49,
   "metadata": {},
   "outputs": [],
   "source": [
    "nie_df = pd.DataFrame({'Links' :links})   "
   ]
  },
  {
   "cell_type": "code",
   "execution_count": 50,
   "metadata": {},
   "outputs": [
    {
     "data": {
      "text/html": [
       "<div>\n",
       "<style scoped>\n",
       "    .dataframe tbody tr th:only-of-type {\n",
       "        vertical-align: middle;\n",
       "    }\n",
       "\n",
       "    .dataframe tbody tr th {\n",
       "        vertical-align: top;\n",
       "    }\n",
       "\n",
       "    .dataframe thead th {\n",
       "        text-align: right;\n",
       "    }\n",
       "</style>\n",
       "<table border=\"1\" class=\"dataframe\">\n",
       "  <thead>\n",
       "    <tr style=\"text-align: right;\">\n",
       "      <th></th>\n",
       "      <th>Links</th>\n",
       "    </tr>\n",
       "  </thead>\n",
       "  <tbody>\n",
       "    <tr>\n",
       "      <th>0</th>\n",
       "      <td>http://www.asapsports.com/show_interview.php?i...</td>\n",
       "    </tr>\n",
       "    <tr>\n",
       "      <th>1</th>\n",
       "      <td>http://www.asapsports.com/show_interview.php?i...</td>\n",
       "    </tr>\n",
       "    <tr>\n",
       "      <th>2</th>\n",
       "      <td>http://www.asapsports.com/show_interview.php?i...</td>\n",
       "    </tr>\n",
       "    <tr>\n",
       "      <th>3</th>\n",
       "      <td>http://www.asapsports.com/show_interview.php?i...</td>\n",
       "    </tr>\n",
       "    <tr>\n",
       "      <th>4</th>\n",
       "      <td>http://www.asapsports.com/show_interview.php?i...</td>\n",
       "    </tr>\n",
       "    <tr>\n",
       "      <th>...</th>\n",
       "      <td>...</td>\n",
       "    </tr>\n",
       "    <tr>\n",
       "      <th>91</th>\n",
       "      <td>http://www.asapsports.com/show_interview.php?i...</td>\n",
       "    </tr>\n",
       "    <tr>\n",
       "      <th>92</th>\n",
       "      <td>http://www.asapsports.com/show_interview.php?i...</td>\n",
       "    </tr>\n",
       "    <tr>\n",
       "      <th>93</th>\n",
       "      <td>http://www.asapsports.com/show_interview.php?i...</td>\n",
       "    </tr>\n",
       "    <tr>\n",
       "      <th>94</th>\n",
       "      <td>http://www.asapsports.com/show_interview.php?i...</td>\n",
       "    </tr>\n",
       "    <tr>\n",
       "      <th>95</th>\n",
       "      <td>http://www.asapsports.com/show_interview.php?i...</td>\n",
       "    </tr>\n",
       "  </tbody>\n",
       "</table>\n",
       "<p>96 rows × 1 columns</p>\n",
       "</div>"
      ],
      "text/plain": [
       "                                                Links\n",
       "0   http://www.asapsports.com/show_interview.php?i...\n",
       "1   http://www.asapsports.com/show_interview.php?i...\n",
       "2   http://www.asapsports.com/show_interview.php?i...\n",
       "3   http://www.asapsports.com/show_interview.php?i...\n",
       "4   http://www.asapsports.com/show_interview.php?i...\n",
       "..                                                ...\n",
       "91  http://www.asapsports.com/show_interview.php?i...\n",
       "92  http://www.asapsports.com/show_interview.php?i...\n",
       "93  http://www.asapsports.com/show_interview.php?i...\n",
       "94  http://www.asapsports.com/show_interview.php?i...\n",
       "95  http://www.asapsports.com/show_interview.php?i...\n",
       "\n",
       "[96 rows x 1 columns]"
      ]
     },
     "execution_count": 50,
     "metadata": {},
     "output_type": "execute_result"
    }
   ],
   "source": [
    "nie_df"
   ]
  },
  {
   "cell_type": "code",
   "execution_count": 19,
   "metadata": {},
   "outputs": [
    {
     "name": "stdout",
     "output_type": "stream",
     "text": [
      "LIV GOLF JEDDAH\n",
      "March 3, 2024\n",
      "Joaquin Niemann\n"
     ]
    }
   ],
   "source": [
    "\n",
    "URL = 'http://www.asapsports.com/show_interview.php?id=194496'\n",
    "headers = {'User-Agent': 'Mozilla/5.0 (Macintosh; Intel Mac OS X 10.15; rv:121.0) Gecko/20100101 Firefox/121.0'}\n",
    "response = requests.get(URL, headers=headers)\n",
    "soup = BeautifulSoup(response.text, 'html.parser')\n",
    "\n",
    "# Getting Data\n",
    "name = soup.find('h1')\n",
    "dates = soup.find('h2')\n",
    "event = soup.find('h3')\n",
    "\n",
    "print(name.text)\n",
    "print(dates.text)\n",
    "print(event.text)\n"
   ]
  },
  {
   "cell_type": "code",
   "execution_count": 9,
   "metadata": {},
   "outputs": [],
   "source": [
    "interviews = []\n",
    "dates, answers = sm.parse_interview(URL)\n",
    "niemann_result = pd.DataFrame({'date':dates,'answer':answers})"
   ]
  },
  {
   "cell_type": "code",
   "execution_count": null,
   "metadata": {},
   "outputs": [],
   "source": []
  },
  {
   "cell_type": "code",
   "execution_count": 16,
   "metadata": {},
   "outputs": [
    {
     "data": {
      "text/html": [
       "<div>\n",
       "<style scoped>\n",
       "    .dataframe tbody tr th:only-of-type {\n",
       "        vertical-align: middle;\n",
       "    }\n",
       "\n",
       "    .dataframe tbody tr th {\n",
       "        vertical-align: top;\n",
       "    }\n",
       "\n",
       "    .dataframe thead th {\n",
       "        text-align: right;\n",
       "    }\n",
       "</style>\n",
       "<table border=\"1\" class=\"dataframe\">\n",
       "  <thead>\n",
       "    <tr style=\"text-align: right;\">\n",
       "      <th></th>\n",
       "      <th>date</th>\n",
       "      <th>answer</th>\n",
       "      <th>player</th>\n",
       "      <th>text</th>\n",
       "    </tr>\n",
       "  </thead>\n",
       "  <tbody>\n",
       "    <tr>\n",
       "      <th>0</th>\n",
       "      <td>March 3, 2024</td>\n",
       "      <td>(joaquin niemann, [yeah, it, feels, amazing, i...</td>\n",
       "      <td>joaquin niemann</td>\n",
       "      <td>[yeah, it, feels, amazing, it's, a, super, spe...</td>\n",
       "    </tr>\n",
       "    <tr>\n",
       "      <th>1</th>\n",
       "      <td>March 3, 2024</td>\n",
       "      <td>(joaquín niemann, [i, wouldn't, say, it, felt,...</td>\n",
       "      <td>joaquín niemann</td>\n",
       "      <td>[i, wouldn't, say, it, felt, that, way, at, th...</td>\n",
       "    </tr>\n",
       "    <tr>\n",
       "      <th>2</th>\n",
       "      <td>March 3, 2024</td>\n",
       "      <td>(joaquin niemann, [i, mean, at, least, that's,...</td>\n",
       "      <td>joaquin niemann</td>\n",
       "      <td>[i, mean, at, least, that's, what, i, think, i...</td>\n",
       "    </tr>\n",
       "    <tr>\n",
       "      <th>3</th>\n",
       "      <td>March 3, 2024</td>\n",
       "      <td>(joaquin niemann, [i, believe, so, yeah, i, fe...</td>\n",
       "      <td>joaquin niemann</td>\n",
       "      <td>[i, believe, so, yeah, i, feel, like, it's, pr...</td>\n",
       "    </tr>\n",
       "    <tr>\n",
       "      <th>4</th>\n",
       "      <td>March 3, 2024</td>\n",
       "      <td>(joaquin niemann, [oh, that, was, beautiful, y...</td>\n",
       "      <td>joaquin niemann</td>\n",
       "      <td>[oh, that, was, beautiful, yeah, that, hole, i...</td>\n",
       "    </tr>\n",
       "    <tr>\n",
       "      <th>5</th>\n",
       "      <td>March 3, 2024</td>\n",
       "      <td>(joaquin niemann, [yeah, i, used, to, feel, a,...</td>\n",
       "      <td>joaquin niemann</td>\n",
       "      <td>[yeah, i, used, to, feel, a, lot, more, my, ri...</td>\n",
       "    </tr>\n",
       "    <tr>\n",
       "      <th>6</th>\n",
       "      <td>March 3, 2024</td>\n",
       "      <td>(joaquin niemann, [it's, been, streaky, i've, ...</td>\n",
       "      <td>joaquin niemann</td>\n",
       "      <td>[it's, been, streaky, i've, been, having, good...</td>\n",
       "    </tr>\n",
       "    <tr>\n",
       "      <th>7</th>\n",
       "      <td>March 3, 2024</td>\n",
       "      <td>(joaquin niemann, [yeah, obviously, there, is,...</td>\n",
       "      <td>joaquin niemann</td>\n",
       "      <td>[yeah, obviously, there, is, a, lot, more, i'l...</td>\n",
       "    </tr>\n",
       "    <tr>\n",
       "      <th>8</th>\n",
       "      <td>March 3, 2024</td>\n",
       "      <td>(joaquin niemann, [yeah, that, was, my, goal, ...</td>\n",
       "      <td>joaquin niemann</td>\n",
       "      <td>[yeah, that, was, my, goal, today, was, to, tr...</td>\n",
       "    </tr>\n",
       "    <tr>\n",
       "      <th>9</th>\n",
       "      <td>March 3, 2024</td>\n",
       "      <td>(joaquin niemann, [yeah, gary's, role, was, hu...</td>\n",
       "      <td>joaquin niemann</td>\n",
       "      <td>[yeah, gary's, role, was, huge, not, only, tod...</td>\n",
       "    </tr>\n",
       "    <tr>\n",
       "      <th>10</th>\n",
       "      <td>March 3, 2024</td>\n",
       "      <td>(joaquin niemann, [yeah, obviously, every, day...</td>\n",
       "      <td>joaquin niemann</td>\n",
       "      <td>[yeah, obviously, every, day, here, is, import...</td>\n",
       "    </tr>\n",
       "    <tr>\n",
       "      <th>11</th>\n",
       "      <td>March 3, 2024</td>\n",
       "      <td>(joaquin niemann, [yeah, it, gives, me, a, lot...</td>\n",
       "      <td>joaquin niemann</td>\n",
       "      <td>[yeah, it, gives, me, a, lot, of, confidence, ...</td>\n",
       "    </tr>\n",
       "  </tbody>\n",
       "</table>\n",
       "</div>"
      ],
      "text/plain": [
       "             date                                             answer  \\\n",
       "0   March 3, 2024  (joaquin niemann, [yeah, it, feels, amazing, i...   \n",
       "1   March 3, 2024  (joaquín niemann, [i, wouldn't, say, it, felt,...   \n",
       "2   March 3, 2024  (joaquin niemann, [i, mean, at, least, that's,...   \n",
       "3   March 3, 2024  (joaquin niemann, [i, believe, so, yeah, i, fe...   \n",
       "4   March 3, 2024  (joaquin niemann, [oh, that, was, beautiful, y...   \n",
       "5   March 3, 2024  (joaquin niemann, [yeah, i, used, to, feel, a,...   \n",
       "6   March 3, 2024  (joaquin niemann, [it's, been, streaky, i've, ...   \n",
       "7   March 3, 2024  (joaquin niemann, [yeah, obviously, there, is,...   \n",
       "8   March 3, 2024  (joaquin niemann, [yeah, that, was, my, goal, ...   \n",
       "9   March 3, 2024  (joaquin niemann, [yeah, gary's, role, was, hu...   \n",
       "10  March 3, 2024  (joaquin niemann, [yeah, obviously, every, day...   \n",
       "11  March 3, 2024  (joaquin niemann, [yeah, it, gives, me, a, lot...   \n",
       "\n",
       "             player                                               text  \n",
       "0   joaquin niemann  [yeah, it, feels, amazing, it's, a, super, spe...  \n",
       "1   joaquín niemann  [i, wouldn't, say, it, felt, that, way, at, th...  \n",
       "2   joaquin niemann  [i, mean, at, least, that's, what, i, think, i...  \n",
       "3   joaquin niemann  [i, believe, so, yeah, i, feel, like, it's, pr...  \n",
       "4   joaquin niemann  [oh, that, was, beautiful, yeah, that, hole, i...  \n",
       "5   joaquin niemann  [yeah, i, used, to, feel, a, lot, more, my, ri...  \n",
       "6   joaquin niemann  [it's, been, streaky, i've, been, having, good...  \n",
       "7   joaquin niemann  [yeah, obviously, there, is, a, lot, more, i'l...  \n",
       "8   joaquin niemann  [yeah, that, was, my, goal, today, was, to, tr...  \n",
       "9   joaquin niemann  [yeah, gary's, role, was, huge, not, only, tod...  \n",
       "10  joaquin niemann  [yeah, obviously, every, day, here, is, import...  \n",
       "11  joaquin niemann  [yeah, it, gives, me, a, lot, of, confidence, ...  "
      ]
     },
     "execution_count": 16,
     "metadata": {},
     "output_type": "execute_result"
    }
   ],
   "source": [
    "#for i,n in niemann_result['answer']:\n",
    "    #print(i)\n",
    "\n",
    "niemann_result['player'] = [i for i, n in niemann_result['answer']]\n",
    "niemann_result['text'] = [n for i, n in niemann_result['answer']]\n",
    "niemann_result"
   ]
  },
  {
   "cell_type": "code",
   "execution_count": null,
   "metadata": {},
   "outputs": [],
   "source": [
    "def scrape_description(link):\n",
    "        URL = f'{link}'\n",
    "        headers = {'User-Agent': 'Mozilla/5.0 (Macintosh; Intel Mac OS X 10.15; rv:121.0) Gecko/20100101 Firefox/121.0'}\n",
    "        response = requests.get(URL, headers=headers)\n",
    "        soup = BeautifulSoup(response.text, 'html.parser')\n",
    "        \n",
    "        # Getting Data\n",
    "        name = soup.find('h1')\n",
    "        dates = soup.find('h2')\n",
    "        event = soup.find('h3')\n",
    "        \n",
    "        # Find all p elements with a specific class within the div\n",
    "        if div is not None:\n",
    "            specific_class_p_elements = div.find_all('p', class_='a53cbfa6de b3efd73f69')\n",
    "            if div2 is not None:\n",
    "                # Find all h2 elements with a specific class within div2\n",
    "                specific_class_h_elements = div2.find_all('h2', class_='d2fee87262 pp-header__title')\n",
    "            else:\n",
    "                specific_class_h_elements = []\n",
    "        \n",
    "            descriptions = []\n",
    "            for h, p in zip(specific_class_h_elements, specific_class_p_elements):\n",
    "                descriptions.append((h.get_text(strip=True), p.get_text(strip=True)))\n",
    "        else:\n",
    "            # If 'div' is not found, return an empty list\n",
    "            descriptions = []\n",
    "        \n",
    "        return descriptions"
   ]
  }
 ],
 "metadata": {
  "kernelspec": {
   "display_name": "IntroTxtEnv",
   "language": "python",
   "name": "python3"
  },
  "language_info": {
   "codemirror_mode": {
    "name": "ipython",
    "version": 3
   },
   "file_extension": ".py",
   "mimetype": "text/x-python",
   "name": "python",
   "nbconvert_exporter": "python",
   "pygments_lexer": "ipython3",
   "version": "3.12.2"
  }
 },
 "nbformat": 4,
 "nbformat_minor": 2
}
