{
 "cells": [
  {
   "cell_type": "code",
   "execution_count": 44,
   "metadata": {},
   "outputs": [],
   "source": [
    "#Loading packages\n",
    "import pandas as pd\n",
    "import numpy as np\n",
    "import requests\n",
    "from bs4 import BeautifulSoup\n",
    "import os\n",
    "from selenium import webdriver\n",
    "import re\n",
    "import scrape_functions_un as kzd"
   ]
  },
  {
   "cell_type": "markdown",
   "metadata": {},
   "source": [
    "## Players Dictionary"
   ]
  },
  {
   "cell_type": "code",
   "execution_count": 6,
   "metadata": {},
   "outputs": [],
   "source": [
    "players_names = {'Rory McIlroy': '17419',\n",
    "            'Tiger Woods': '10085', \n",
    "            'Jordan Spieth': '19976',\n",
    "            'Justin Thomas': '20037',\n",
    "            'Scottie Scheffler': '25786',\n",
    "            'Collin Morikawa': '33992',\n",
    "            'Sergio García': '10170',\n",
    "            'Dustin Johnson': '17976',\n",
    "            'Phil Mickelson': '10083',\n",
    "            'Ian Poulter': '11956',\n",
    "            'Talor Gooch': '27168',\n",
    "            'Cameron Smith': '27755',\n",
    "            'Joaquín Niemann': '33997',\n",
    "            'Bryson DeChambeau': '29148',\n",
    "            'Brooks Koepka': '25730',\n",
    "            'Jon Rahm': '28177'}"
   ]
  },
  {
   "cell_type": "markdown",
   "metadata": {},
   "source": [
    "### We want to get all the dates and urls for each of the player's pages"
   ]
  },
  {
   "cell_type": "code",
   "execution_count": 7,
   "metadata": {},
   "outputs": [],
   "source": [
    "niemann_url = 'https://www.asapsports.com/show_player.php?id=33997'\n",
    "\n",
    "response = requests.get(niemann_url)\n",
    "soup = BeautifulSoup(response.text, 'html.parser')\n",
    "dates_niemann = soup.find_all('b')"
   ]
  },
  {
   "cell_type": "code",
   "execution_count": 40,
   "metadata": {},
   "outputs": [],
   "source": [
    "links = []\n",
    "for row in dates_niemann:\n",
    "        a_tags = soup.find_all('a', href=True)\n",
    "        \n",
    "for atag in a_tags:\n",
    "    url = atag['href']\n",
    "    if url.startswith('http://www.asapsports.com/show_interview.php?id='):\n",
    "         links.append(url)"
   ]
  },
  {
   "cell_type": "code",
   "execution_count": 43,
   "metadata": {},
   "outputs": [
    {
     "data": {
      "text/plain": [
       "['http://www.asapsports.com/show_interview.php?id=194496',\n",
       " 'http://www.asapsports.com/show_interview.php?id=194475',\n",
       " 'http://www.asapsports.com/show_interview.php?id=194453',\n",
       " 'http://www.asapsports.com/show_interview.php?id=194119',\n",
       " 'http://www.asapsports.com/show_interview.php?id=194102']"
      ]
     },
     "execution_count": 43,
     "metadata": {},
     "output_type": "execute_result"
    }
   ],
   "source": [
    "links[0:5]"
   ]
  },
  {
   "cell_type": "code",
   "execution_count": 49,
   "metadata": {},
   "outputs": [],
   "source": [
    "nie_df = pd.DataFrame({'Links' :links})   "
   ]
  },
  {
   "cell_type": "code",
   "execution_count": 50,
   "metadata": {},
   "outputs": [
    {
     "data": {
      "text/html": [
       "<div>\n",
       "<style scoped>\n",
       "    .dataframe tbody tr th:only-of-type {\n",
       "        vertical-align: middle;\n",
       "    }\n",
       "\n",
       "    .dataframe tbody tr th {\n",
       "        vertical-align: top;\n",
       "    }\n",
       "\n",
       "    .dataframe thead th {\n",
       "        text-align: right;\n",
       "    }\n",
       "</style>\n",
       "<table border=\"1\" class=\"dataframe\">\n",
       "  <thead>\n",
       "    <tr style=\"text-align: right;\">\n",
       "      <th></th>\n",
       "      <th>Links</th>\n",
       "    </tr>\n",
       "  </thead>\n",
       "  <tbody>\n",
       "    <tr>\n",
       "      <th>0</th>\n",
       "      <td>http://www.asapsports.com/show_interview.php?i...</td>\n",
       "    </tr>\n",
       "    <tr>\n",
       "      <th>1</th>\n",
       "      <td>http://www.asapsports.com/show_interview.php?i...</td>\n",
       "    </tr>\n",
       "    <tr>\n",
       "      <th>2</th>\n",
       "      <td>http://www.asapsports.com/show_interview.php?i...</td>\n",
       "    </tr>\n",
       "    <tr>\n",
       "      <th>3</th>\n",
       "      <td>http://www.asapsports.com/show_interview.php?i...</td>\n",
       "    </tr>\n",
       "    <tr>\n",
       "      <th>4</th>\n",
       "      <td>http://www.asapsports.com/show_interview.php?i...</td>\n",
       "    </tr>\n",
       "    <tr>\n",
       "      <th>...</th>\n",
       "      <td>...</td>\n",
       "    </tr>\n",
       "    <tr>\n",
       "      <th>91</th>\n",
       "      <td>http://www.asapsports.com/show_interview.php?i...</td>\n",
       "    </tr>\n",
       "    <tr>\n",
       "      <th>92</th>\n",
       "      <td>http://www.asapsports.com/show_interview.php?i...</td>\n",
       "    </tr>\n",
       "    <tr>\n",
       "      <th>93</th>\n",
       "      <td>http://www.asapsports.com/show_interview.php?i...</td>\n",
       "    </tr>\n",
       "    <tr>\n",
       "      <th>94</th>\n",
       "      <td>http://www.asapsports.com/show_interview.php?i...</td>\n",
       "    </tr>\n",
       "    <tr>\n",
       "      <th>95</th>\n",
       "      <td>http://www.asapsports.com/show_interview.php?i...</td>\n",
       "    </tr>\n",
       "  </tbody>\n",
       "</table>\n",
       "<p>96 rows × 1 columns</p>\n",
       "</div>"
      ],
      "text/plain": [
       "                                                Links\n",
       "0   http://www.asapsports.com/show_interview.php?i...\n",
       "1   http://www.asapsports.com/show_interview.php?i...\n",
       "2   http://www.asapsports.com/show_interview.php?i...\n",
       "3   http://www.asapsports.com/show_interview.php?i...\n",
       "4   http://www.asapsports.com/show_interview.php?i...\n",
       "..                                                ...\n",
       "91  http://www.asapsports.com/show_interview.php?i...\n",
       "92  http://www.asapsports.com/show_interview.php?i...\n",
       "93  http://www.asapsports.com/show_interview.php?i...\n",
       "94  http://www.asapsports.com/show_interview.php?i...\n",
       "95  http://www.asapsports.com/show_interview.php?i...\n",
       "\n",
       "[96 rows x 1 columns]"
      ]
     },
     "execution_count": 50,
     "metadata": {},
     "output_type": "execute_result"
    }
   ],
   "source": [
    "nie_df"
   ]
  },
  {
   "cell_type": "code",
   "execution_count": 54,
   "metadata": {},
   "outputs": [
    {
     "name": "stdout",
     "output_type": "stream",
     "text": [
      "LIV GOLF JEDDAH\n",
      "March 3, 2024\n",
      "Joaquin Niemann\n",
      "[<p>THE MODERATOR:   Welcome to our LIV Golf Jeddah 2024 champion, captain of Torque GC, Joaquín Niemann.  Two wins out of three for the 2024 LIV Golf season.  How does this one feel?\n",
      "</p>, <p>JOAQUIN NIEMANN:   Yeah, it feels amazing.  It's a super special moment.  It's always nice when you win.  I'm just more happy, I'm more proud the way I'm playing right now, and the way I played out there today.  It was a tough day.  It was windy.  I knew there was going to be some low scores, so I'm super happy.  I'm proud the way I'm playing.  I just want to -- on to the next one.\n",
      "</p>, <p><b>Q.</b> <b>You looked in control out there all day today.  Did it feel like that for you?</b>\n",
      "</p>, <p>JOAQUÍN NIEMANN:   I wouldn't say it felt that way at the moment.  There were some tricky shots out there.  There were some tough holes, especially with this wind.  Last couple holes, you have 13, 14, 15 -- it's a good finish, and 16, also.  Started to feel some pressure there, and being able to birdie 17, it kind of chilled me a little bit into 18.\n",
      "</p>, <p><b>Q.</b> <b>The way you're playing right now, do you go into a tournament thinking you're the man to beat now?</b>\n",
      "</p>, <p>JOAQUIN NIEMANN:   I mean, at least that's what I think.  I think that's the way it should be.  I want to feel and I want to think I'm the best all the time.\n",
      "</p>, <p>I think that's the only way to be confident and play good golf.\n",
      "</p>, <p>I think it's something that you need to believe in yourself to be out here playing this competitive golf and winning tournaments, so yeah.\n",
      "</p>, <p><b>Q.</b> <b>Is this as good of a confidence level as you've had since you've taken up golf?</b>\n",
      "</p>, <p>JOAQUIN NIEMANN:   I believe so, yeah.  I feel like it's probably my best moment, the best I've ever played before I would say.  I just want it to keep going in the same direction.\n",
      "</p>, <p>I think there is a lot more to improve, and I think I just need to be curious about that and see how much I can learn.\n",
      "</p>, <p><b>Q.</b> <b>There was one shot, I think it was the tee shot at 15.  If I recall --</b>\n",
      "</p>, <p>JOAQUIN NIEMANN:   Oh, that was beautiful.  Yeah, 15, that hole -- I've been playing here, probably this is my fifth time, and that hole always kind of got my eye a little bit because normally I hit that low fade, and I've been hitting this low draw right now that is perfectly made for that one.  It's kind of like a shot that is not as comfortable to hit all the time, but I knew that if I stuck to that shot the whole week, the three days, I knew it was going to be the right shot.  It was beautiful.  I hit a low beautiful draw and it was way down there in the middle of the fairway, tight fairway.  It was a great tee shot.\n",
      "</p>, <p><b>Q.</b> <b>You talked yesterday about an adjustment off the tee, but you also made an adjustment with your putting stroke.  You used to have that setup -- can you talk about that change?</b>\n",
      "</p>, <p>JOAQUIN NIEMANN:   Yeah, I used to feel a lot more my right hand when I'm putting.  Almost all my stroke was more feeling with my right hand.  Normally I would grab it with the right hand and kind of pull it back, just to kind of put my shoulders on the right line.\n",
      "</p>, <p>But now since I'm working with Gary the last couple months, I've been trying to feel like my left arm is more dominant, and it's kind of feeling more like the bigger muscles moving.  I like to go in only with my left arm and just feel like that's the only arm that is doing the stroke.\n",
      "</p>, <p><b>Q.</b> <b>You feel like you're a better putter now?</b>\n",
      "</p>, <p>JOAQUIN NIEMANN:   It's been streaky.  I've been having good weeks.  I've been having decent weeks.  But I certainly think that it's been improving.\n",
      "</p>, <p><b>Q.</b> <b>That draw is working so nicely at the moment.  That's going to be a big help at the Masters, as well, isn't it?  You always play well at the Masters, but with that draw working, that could be just an amazing weapon in your arsenal?</b>\n",
      "</p>, <p>JOAQUIN NIEMANN:   Yeah, obviously there is a lot more -- I'll probably hit 10 drivers a day.  There's a lot more shots going on at Augusta.  It's not only that what I need.  I need a lot more.  I need all my game to be on point.\n",
      "</p>, <p>But yeah, that's obviously a huge boost into my game if I can keep doing the same and try to hit that draw.  It will be helpful.\n",
      "</p>, <p><b>Q.</b> <b>What was the best thing about today?  You were able to call all the shots that you wanted to hit coming down the stretch.  Would you say that was --</b>\n",
      "</p>, <p>JOAQUIN NIEMANN:   Yeah, that was my goal today was to try to see all my shots from behind and try to go and hit them.  I never felt like I had one shot where I was kind of doubting or struggling a little bit.  Sometimes I took a little bit more time trying to see the shot.\n",
      "</p>, <p>I think there's a few shots that I -- all the shots that I feel like I went into and hit them, they were confident swings.  Some of them, they didn't grab the wind.  Some of them, they just came out a little bit different than I wanted.\n",
      "</p>, <p>But I'm pretty proud the way I was able to see the flight, the ball flight, and being able to hit them.\n",
      "</p>, <p><b>Q.</b> <b>We saw on the live feed that you were talking with your caddie most of the time and discussing with him a lot of shots and a lot of things.  How important was his role today?</b>\n",
      "</p>, <p>JOAQUIN NIEMANN:   Yeah, Gary's role was huge, not only today.  During every day we play, every day we practice, he does a good role.  He's pretty good talking me through the shots.  He knows how to read me pretty well.\n",
      "</p>, <p>I feel like during those moments where you're under pressure and you want to keep doing better and kind of stay more in the present, I think I've got -- something I've been working on is trying to have more communication with my caddie during the round, trying to talk about the shots.  After I hit the shots, what was wrong.  That not only helps our communication, it just helps me to get some feedback on how I hit that shot.\n",
      "</p>, <p>He's been doing a great job, and we've been doing a great job together.\n",
      "</p>, <p><b>Q.</b> <b>You've shown a strong mindset today and strong nerves, but how crucial was it for you when you did really well on the second day coming into the third?</b>\n",
      "</p>, <p>JOAQUIN NIEMANN:   Yeah, obviously every day here is important, especially having three days where you've got to go low on all three of them to have a chance to win.\n",
      "</p>, <p>The second day was important, and I think it's the most proud I am for the week because I didn't start playing my best golf, and I ended up doing a lot of birdies at the end to have a chance into the lead.\n",
      "</p>, <p>I think that Saturday round was important to kind of put me in position and show me that being patient has its rewards.  It was nice to see that.\n",
      "</p>, <p><b>Q.</b> <b>How important is this win, building on this win, in terms of the momentum and confidence for Hong Kong?</b>\n",
      "</p>, <p>JOAQUIN NIEMANN:   Yeah, it gives me a lot of confidence.  Obviously having a good week is always positive.  I think I've got to go back and get some rest, look back into what I did this week, the way I played, the way I hit the ball and what I can do better.\n",
      "</p>, <p>I think that was one of the advice that I -- well, not advice, but I remember in Mayakoba I was with Jon in the press conference, and he was talking about it, that when you win, you're so excited that you don't really notice what you did well and didn't do well.  It made so much sense what he said.  He was right.\n",
      "</p>, <p>I think there is a lot of positive things that I've got to take from this week obviously because of winning and see what I can do better for next week.\n",
      "</p>, <p>Like I said also in Mexico, I would love to be in this situation, but having the three other guys here next to me would be a lot more fun.\n",
      "</p>, <p></p>]\n"
     ]
    }
   ],
   "source": [
    "\n",
    "URL = 'http://www.asapsports.com/show_interview.php?id=194496'\n",
    "headers = {'User-Agent': 'Mozilla/5.0 (Macintosh; Intel Mac OS X 10.15; rv:121.0) Gecko/20100101 Firefox/121.0'}\n",
    "response = requests.get(URL, headers=headers)\n",
    "soup = BeautifulSoup(response.text, 'html.parser')\n",
    "\n",
    "# Getting Data\n",
    "name = soup.find('h1')\n",
    "dates = soup.find('h2')\n",
    "event = soup.find('h3')\n",
    "\n",
    "\n",
    "corpus = soup.find_all('p')\n",
    "for i in corpus\n",
    "\n",
    "print(name.text)\n",
    "print(dates.text)\n",
    "print(event.text)\n",
    "print(corpus)\n",
    "\n"
   ]
  },
  {
   "cell_type": "code",
   "execution_count": null,
   "metadata": {},
   "outputs": [],
   "source": [
    "def scrape_description(link):\n",
    "        URL = f'{link}'\n",
    "        headers = {'User-Agent': 'Mozilla/5.0 (Macintosh; Intel Mac OS X 10.15; rv:121.0) Gecko/20100101 Firefox/121.0'}\n",
    "        response = requests.get(URL, headers=headers)\n",
    "        soup = BeautifulSoup(response.text, 'html.parser')\n",
    "        \n",
    "        # Getting Data\n",
    "        name = soup.find('h1')\n",
    "        dates = soup.find('h2')\n",
    "        event = soup.find('h3')\n",
    "        \n",
    "        # Find all p elements with a specific class within the div\n",
    "        if div is not None:\n",
    "            specific_class_p_elements = div.find_all('p', class_='a53cbfa6de b3efd73f69')\n",
    "            if div2 is not None:\n",
    "                # Find all h2 elements with a specific class within div2\n",
    "                specific_class_h_elements = div2.find_all('h2', class_='d2fee87262 pp-header__title')\n",
    "            else:\n",
    "                specific_class_h_elements = []\n",
    "        \n",
    "            descriptions = []\n",
    "            for h, p in zip(specific_class_h_elements, specific_class_p_elements):\n",
    "                descriptions.append((h.get_text(strip=True), p.get_text(strip=True)))\n",
    "        else:\n",
    "            # If 'div' is not found, return an empty list\n",
    "            descriptions = []\n",
    "        \n",
    "        return descriptions"
   ]
  }
 ],
 "metadata": {
  "kernelspec": {
   "display_name": "IntroTxtEnv",
   "language": "python",
   "name": "python3"
  },
  "language_info": {
   "codemirror_mode": {
    "name": "ipython",
    "version": 3
   },
   "file_extension": ".py",
   "mimetype": "text/x-python",
   "name": "python",
   "nbconvert_exporter": "python",
   "pygments_lexer": "ipython3",
   "version": "3.12.2"
  }
 },
 "nbformat": 4,
 "nbformat_minor": 2
}
