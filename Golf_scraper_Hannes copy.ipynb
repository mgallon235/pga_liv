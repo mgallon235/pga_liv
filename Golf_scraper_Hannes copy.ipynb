{
 "cells": [
  {
   "cell_type": "code",
   "execution_count": 1,
   "metadata": {},
   "outputs": [],
   "source": [
    "#Loading packages\n",
    "import pandas as pd\n",
    "import numpy as np\n",
    "import requests\n",
    "from bs4 import BeautifulSoup, Comment\n",
    "from selenium import webdriver\n",
    "import re\n",
    "#import scrape_functions_un as kzd\n",
    "import scraping_model as sm "
   ]
  },
  {
   "cell_type": "markdown",
   "metadata": {},
   "source": [
    "## Players Dictionary"
   ]
  },
  {
   "cell_type": "code",
   "execution_count": 2,
   "metadata": {},
   "outputs": [],
   "source": [
    "players_names = {'Rory McIlroy': '17419',\n",
    "            'Tiger Woods': '10085', \n",
    "            'Jordan Spieth': '19976',\n",
    "            'Justin Thomas': '20037',\n",
    "            'Scottie Scheffler': '25786',\n",
    "            'Collin Morikawa': '33992',\n",
    "            'Sergio García': '10170',\n",
    "            'Dustin Johnson': '17976',\n",
    "            'Phil Mickelson': '10083',\n",
    "            'Ian Poulter': '11956',\n",
    "            'Talor Gooch': '27168',\n",
    "            'Cameron Smith': '27755',\n",
    "            'Joaquin Niemann': '33997',\n",
    "            'Bryson DeChambeau': '29148',\n",
    "            'Brooks Koepka': '25730',\n",
    "            'Jon Rahm': '28177'}"
   ]
  },
  {
   "cell_type": "markdown",
   "metadata": {},
   "source": [
    "### We want to get all the dates and urls for each of the player's pages"
   ]
  },
  {
   "cell_type": "code",
   "execution_count": 48,
   "metadata": {},
   "outputs": [],
   "source": [
    "niemann_url = 'http://www.asapsports.com/show_player.php?id=33997'\n",
    "\n",
    "response = requests.get(niemann_url)\n",
    "soup = BeautifulSoup(response.text, 'html.parser')\n",
    "dates_niemann = soup.find_all('b')"
   ]
  },
  {
   "cell_type": "code",
   "execution_count": 49,
   "metadata": {},
   "outputs": [],
   "source": [
    "## Retrieving player interview links\n",
    "links_niemann = []\n",
    "for row in dates_niemann:\n",
    "        a_tags = soup.find_all('a', href=True)\n",
    "        \n",
    "for atag in a_tags:\n",
    "    url = atag['href']\n",
    "    if url.startswith('http://www.asapsports.com/show_interview.php?id='):\n",
    "         links_niemann.append(url)"
   ]
  },
  {
   "cell_type": "markdown",
   "metadata": {},
   "source": [
    "### Doing a for loop, to get all the links for each player"
   ]
  },
  {
   "cell_type": "code",
   "execution_count": 10,
   "metadata": {},
   "outputs": [
    {
     "name": "stdout",
     "output_type": "stream",
     "text": [
      "URLs fetched from: Rory McIlroy\n",
      "URLs fetched from: Tiger Woods\n",
      "URLs fetched from: Jordan Spieth\n",
      "URLs fetched from: Justin Thomas\n",
      "URLs fetched from: Scottie Scheffler\n",
      "URLs fetched from: Collin Morikawa\n",
      "URLs fetched from: Sergio García\n",
      "URLs fetched from: Dustin Johnson\n",
      "URLs fetched from: Phil Mickelson\n",
      "URLs fetched from: Ian Poulter\n",
      "URLs fetched from: Talor Gooch\n",
      "URLs fetched from: Cameron Smith\n",
      "URLs fetched from: Joaquin Niemann\n",
      "URLs fetched from: Bryson DeChambeau\n",
      "URLs fetched from: Brooks Koepka\n",
      "URLs fetched from: Jon Rahm\n"
     ]
    }
   ],
   "source": [
    "links = {}\n",
    "for player, id in players_names.items():\n",
    "    player_url = f'https://www.asapsports.com/show_player.php?id={id}'\n",
    "    response = requests.get(player_url)\n",
    "    soup = BeautifulSoup(response.text, 'html.parser')\n",
    "    dates_links = soup.find_all('b')\n",
    "    links_player = []\n",
    "\n",
    "    for row in dates_links:\n",
    "            a_tags = soup.find_all('a', href=True)\n",
    "        \n",
    "    for atag in a_tags:\n",
    "        url = atag['href']\n",
    "        if url.startswith('http://www.asapsports.com/show_interview.php?id='):\n",
    "            links_player.append(url)\n",
    "    links[f'{player}'] = links_player\n",
    "    print('URLs fetched from:', player)\n",
    "\n",
    "#3m 30.3s    "
   ]
  },
  {
   "cell_type": "markdown",
   "metadata": {},
   "source": [
    "## Big loop, for all the links for all the players"
   ]
  },
  {
   "cell_type": "code",
   "execution_count": 43,
   "metadata": {},
   "outputs": [
    {
     "name": "stdout",
     "output_type": "stream",
     "text": [
      "1 \t 4\n",
      "1 \t 6\n",
      "1 \t 18\n",
      "1 \t 4\n",
      "1 \t 5\n",
      "3 \t 12\n",
      "1 \t 5\n",
      "2 \t 17\n",
      "1 \t 4\n"
     ]
    },
    {
     "ename": "KeyboardInterrupt",
     "evalue": "",
     "output_type": "error",
     "traceback": [
      "\u001b[0;31m---------------------------------------------------------------------------\u001b[0m",
      "\u001b[0;31mKeyboardInterrupt\u001b[0m                         Traceback (most recent call last)",
      "Cell \u001b[0;32mIn[43], line 15\u001b[0m\n\u001b[1;32m     12\u001b[0m event \u001b[38;5;241m=\u001b[39m soup\u001b[38;5;241m.\u001b[39mfind(\u001b[38;5;124m'\u001b[39m\u001b[38;5;124mh1\u001b[39m\u001b[38;5;124m'\u001b[39m)\u001b[38;5;241m.\u001b[39mtext\n\u001b[1;32m     13\u001b[0m events\u001b[38;5;241m.\u001b[39mappend(event)\n\u001b[0;32m---> 15\u001b[0m dates_loop, answers_loop \u001b[38;5;241m=\u001b[39m \u001b[43msm\u001b[49m\u001b[38;5;241;43m.\u001b[39;49m\u001b[43mparse_interview\u001b[49m\u001b[43m(\u001b[49m\u001b[43mlink\u001b[49m\u001b[43m)\u001b[49m\n\u001b[1;32m     17\u001b[0m bold_text \u001b[38;5;241m=\u001b[39m soup\u001b[38;5;241m.\u001b[39mfind_all(\u001b[38;5;124m'\u001b[39m\u001b[38;5;124mb\u001b[39m\u001b[38;5;124m'\u001b[39m)\n\u001b[1;32m     19\u001b[0m questions \u001b[38;5;241m=\u001b[39m sm\u001b[38;5;241m.\u001b[39mget_questions(bold_text) \n",
      "File \u001b[0;32m~/Documents/BSE/T2/NLP/Intro/FinalProj/pga_liv/scraping_model.py:81\u001b[0m, in \u001b[0;36mparse_interview\u001b[0;34m(url)\u001b[0m\n\u001b[1;32m     76\u001b[0m \u001b[38;5;250m\u001b[39m\u001b[38;5;124;03m'''\u001b[39;00m\n\u001b[1;32m     77\u001b[0m \u001b[38;5;124;03mParameters:\turl of interview\u001b[39;00m\n\u001b[1;32m     78\u001b[0m \u001b[38;5;124;03mReturns:\tdata, list of (person's name, person's answer) tuples\u001b[39;00m\n\u001b[1;32m     79\u001b[0m \u001b[38;5;124;03m'''\u001b[39;00m\n\u001b[1;32m     80\u001b[0m page \u001b[38;5;241m=\u001b[39m requests\u001b[38;5;241m.\u001b[39mget(url)\n\u001b[0;32m---> 81\u001b[0m soup \u001b[38;5;241m=\u001b[39m \u001b[43mBeautifulSoup\u001b[49m\u001b[43m(\u001b[49m\u001b[43mpage\u001b[49m\u001b[38;5;241;43m.\u001b[39;49m\u001b[43mtext\u001b[49m\u001b[43m,\u001b[49m\u001b[43m \u001b[49m\u001b[38;5;124;43m'\u001b[39;49m\u001b[38;5;124;43mhtml.parser\u001b[39;49m\u001b[38;5;124;43m'\u001b[39;49m\u001b[43m)\u001b[49m\n\u001b[1;32m     82\u001b[0m main_text \u001b[38;5;241m=\u001b[39m soup\u001b[38;5;241m.\u001b[39mfind(attrs\u001b[38;5;241m=\u001b[39m{\u001b[38;5;124m'\u001b[39m\u001b[38;5;124mstyle\u001b[39m\u001b[38;5;124m'\u001b[39m:\u001b[38;5;124m'\u001b[39m\u001b[38;5;124mpadding: 10px;\u001b[39m\u001b[38;5;124m'\u001b[39m, \u001b[38;5;124m'\u001b[39m\u001b[38;5;124mvalign\u001b[39m\u001b[38;5;124m'\u001b[39m:\u001b[38;5;124m'\u001b[39m\u001b[38;5;124mtop\u001b[39m\u001b[38;5;124m'\u001b[39m})\n\u001b[1;32m     83\u001b[0m date \u001b[38;5;241m=\u001b[39m main_text\u001b[38;5;241m.\u001b[39mfind(\u001b[38;5;124m'\u001b[39m\u001b[38;5;124mh2\u001b[39m\u001b[38;5;124m'\u001b[39m)\u001b[38;5;241m.\u001b[39mget_text()\n",
      "File \u001b[0;32m~/miniconda3/envs/IntroTxtEnv/lib/python3.12/site-packages/bs4/__init__.py:335\u001b[0m, in \u001b[0;36mBeautifulSoup.__init__\u001b[0;34m(self, markup, features, builder, parse_only, from_encoding, exclude_encodings, element_classes, **kwargs)\u001b[0m\n\u001b[1;32m    333\u001b[0m \u001b[38;5;28mself\u001b[39m\u001b[38;5;241m.\u001b[39mbuilder\u001b[38;5;241m.\u001b[39minitialize_soup(\u001b[38;5;28mself\u001b[39m)\n\u001b[1;32m    334\u001b[0m \u001b[38;5;28;01mtry\u001b[39;00m:\n\u001b[0;32m--> 335\u001b[0m     \u001b[38;5;28;43mself\u001b[39;49m\u001b[38;5;241;43m.\u001b[39;49m\u001b[43m_feed\u001b[49m\u001b[43m(\u001b[49m\u001b[43m)\u001b[49m\n\u001b[1;32m    336\u001b[0m     success \u001b[38;5;241m=\u001b[39m \u001b[38;5;28;01mTrue\u001b[39;00m\n\u001b[1;32m    337\u001b[0m     \u001b[38;5;28;01mbreak\u001b[39;00m\n",
      "File \u001b[0;32m~/miniconda3/envs/IntroTxtEnv/lib/python3.12/site-packages/bs4/__init__.py:478\u001b[0m, in \u001b[0;36mBeautifulSoup._feed\u001b[0;34m(self)\u001b[0m\n\u001b[1;32m    475\u001b[0m \u001b[38;5;66;03m# Convert the document to Unicode.\u001b[39;00m\n\u001b[1;32m    476\u001b[0m \u001b[38;5;28mself\u001b[39m\u001b[38;5;241m.\u001b[39mbuilder\u001b[38;5;241m.\u001b[39mreset()\n\u001b[0;32m--> 478\u001b[0m \u001b[38;5;28;43mself\u001b[39;49m\u001b[38;5;241;43m.\u001b[39;49m\u001b[43mbuilder\u001b[49m\u001b[38;5;241;43m.\u001b[39;49m\u001b[43mfeed\u001b[49m\u001b[43m(\u001b[49m\u001b[38;5;28;43mself\u001b[39;49m\u001b[38;5;241;43m.\u001b[39;49m\u001b[43mmarkup\u001b[49m\u001b[43m)\u001b[49m\n\u001b[1;32m    479\u001b[0m \u001b[38;5;66;03m# Close out any unfinished strings and close all the open tags.\u001b[39;00m\n\u001b[1;32m    480\u001b[0m \u001b[38;5;28mself\u001b[39m\u001b[38;5;241m.\u001b[39mendData()\n",
      "File \u001b[0;32m~/miniconda3/envs/IntroTxtEnv/lib/python3.12/site-packages/bs4/builder/_htmlparser.py:380\u001b[0m, in \u001b[0;36mHTMLParserTreeBuilder.feed\u001b[0;34m(self, markup)\u001b[0m\n\u001b[1;32m    378\u001b[0m parser\u001b[38;5;241m.\u001b[39msoup \u001b[38;5;241m=\u001b[39m \u001b[38;5;28mself\u001b[39m\u001b[38;5;241m.\u001b[39msoup\n\u001b[1;32m    379\u001b[0m \u001b[38;5;28;01mtry\u001b[39;00m:\n\u001b[0;32m--> 380\u001b[0m     \u001b[43mparser\u001b[49m\u001b[38;5;241;43m.\u001b[39;49m\u001b[43mfeed\u001b[49m\u001b[43m(\u001b[49m\u001b[43mmarkup\u001b[49m\u001b[43m)\u001b[49m\n\u001b[1;32m    381\u001b[0m \u001b[38;5;28;01mexcept\u001b[39;00m \u001b[38;5;167;01mAssertionError\u001b[39;00m \u001b[38;5;28;01mas\u001b[39;00m e:\n\u001b[1;32m    382\u001b[0m     \u001b[38;5;66;03m# html.parser raises AssertionError in rare cases to\u001b[39;00m\n\u001b[1;32m    383\u001b[0m     \u001b[38;5;66;03m# indicate a fatal problem with the markup, especially\u001b[39;00m\n\u001b[1;32m    384\u001b[0m     \u001b[38;5;66;03m# when there's an error in the doctype declaration.\u001b[39;00m\n\u001b[1;32m    385\u001b[0m     \u001b[38;5;28;01mraise\u001b[39;00m ParserRejectedMarkup(e)\n",
      "File \u001b[0;32m~/miniconda3/envs/IntroTxtEnv/lib/python3.12/html/parser.py:111\u001b[0m, in \u001b[0;36mHTMLParser.feed\u001b[0;34m(self, data)\u001b[0m\n\u001b[1;32m    105\u001b[0m \u001b[38;5;250m\u001b[39m\u001b[38;5;124mr\u001b[39m\u001b[38;5;124;03m\"\"\"Feed data to the parser.\u001b[39;00m\n\u001b[1;32m    106\u001b[0m \n\u001b[1;32m    107\u001b[0m \u001b[38;5;124;03mCall this as often as you want, with as little or as much text\u001b[39;00m\n\u001b[1;32m    108\u001b[0m \u001b[38;5;124;03mas you want (may include '\\n').\u001b[39;00m\n\u001b[1;32m    109\u001b[0m \u001b[38;5;124;03m\"\"\"\u001b[39;00m\n\u001b[1;32m    110\u001b[0m \u001b[38;5;28mself\u001b[39m\u001b[38;5;241m.\u001b[39mrawdata \u001b[38;5;241m=\u001b[39m \u001b[38;5;28mself\u001b[39m\u001b[38;5;241m.\u001b[39mrawdata \u001b[38;5;241m+\u001b[39m data\n\u001b[0;32m--> 111\u001b[0m \u001b[38;5;28;43mself\u001b[39;49m\u001b[38;5;241;43m.\u001b[39;49m\u001b[43mgoahead\u001b[49m\u001b[43m(\u001b[49m\u001b[38;5;241;43m0\u001b[39;49m\u001b[43m)\u001b[49m\n",
      "File \u001b[0;32m~/miniconda3/envs/IntroTxtEnv/lib/python3.12/html/parser.py:173\u001b[0m, in \u001b[0;36mHTMLParser.goahead\u001b[0;34m(self, end)\u001b[0m\n\u001b[1;32m    171\u001b[0m     k \u001b[38;5;241m=\u001b[39m \u001b[38;5;28mself\u001b[39m\u001b[38;5;241m.\u001b[39mparse_starttag(i)\n\u001b[1;32m    172\u001b[0m \u001b[38;5;28;01melif\u001b[39;00m startswith(\u001b[38;5;124m\"\u001b[39m\u001b[38;5;124m</\u001b[39m\u001b[38;5;124m\"\u001b[39m, i):\n\u001b[0;32m--> 173\u001b[0m     k \u001b[38;5;241m=\u001b[39m \u001b[38;5;28;43mself\u001b[39;49m\u001b[38;5;241;43m.\u001b[39;49m\u001b[43mparse_endtag\u001b[49m\u001b[43m(\u001b[49m\u001b[43mi\u001b[49m\u001b[43m)\u001b[49m\n\u001b[1;32m    174\u001b[0m \u001b[38;5;28;01melif\u001b[39;00m startswith(\u001b[38;5;124m\"\u001b[39m\u001b[38;5;124m<!--\u001b[39m\u001b[38;5;124m\"\u001b[39m, i):\n\u001b[1;32m    175\u001b[0m     k \u001b[38;5;241m=\u001b[39m \u001b[38;5;28mself\u001b[39m\u001b[38;5;241m.\u001b[39mparse_comment(i)\n",
      "File \u001b[0;32m~/miniconda3/envs/IntroTxtEnv/lib/python3.12/html/parser.py:414\u001b[0m, in \u001b[0;36mHTMLParser.parse_endtag\u001b[0;34m(self, i)\u001b[0m\n\u001b[1;32m    411\u001b[0m         \u001b[38;5;28mself\u001b[39m\u001b[38;5;241m.\u001b[39mhandle_data(rawdata[i:gtpos])\n\u001b[1;32m    412\u001b[0m         \u001b[38;5;28;01mreturn\u001b[39;00m gtpos\n\u001b[0;32m--> 414\u001b[0m \u001b[38;5;28;43mself\u001b[39;49m\u001b[38;5;241;43m.\u001b[39;49m\u001b[43mhandle_endtag\u001b[49m\u001b[43m(\u001b[49m\u001b[43melem\u001b[49m\u001b[43m)\u001b[49m\n\u001b[1;32m    415\u001b[0m \u001b[38;5;28mself\u001b[39m\u001b[38;5;241m.\u001b[39mclear_cdata_mode()\n\u001b[1;32m    416\u001b[0m \u001b[38;5;28;01mreturn\u001b[39;00m gtpos\n",
      "File \u001b[0;32m~/miniconda3/envs/IntroTxtEnv/lib/python3.12/site-packages/bs4/builder/_htmlparser.py:176\u001b[0m, in \u001b[0;36mBeautifulSoupHTMLParser.handle_endtag\u001b[0;34m(self, name, check_already_closed)\u001b[0m\n\u001b[1;32m    174\u001b[0m     \u001b[38;5;28mself\u001b[39m\u001b[38;5;241m.\u001b[39malready_closed_empty_element\u001b[38;5;241m.\u001b[39mremove(name)\n\u001b[1;32m    175\u001b[0m \u001b[38;5;28;01melse\u001b[39;00m:\n\u001b[0;32m--> 176\u001b[0m     \u001b[38;5;28;43mself\u001b[39;49m\u001b[38;5;241;43m.\u001b[39;49m\u001b[43msoup\u001b[49m\u001b[38;5;241;43m.\u001b[39;49m\u001b[43mhandle_endtag\u001b[49m\u001b[43m(\u001b[49m\u001b[43mname\u001b[49m\u001b[43m)\u001b[49m\n",
      "File \u001b[0;32m~/miniconda3/envs/IntroTxtEnv/lib/python3.12/site-packages/bs4/__init__.py:763\u001b[0m, in \u001b[0;36mBeautifulSoup.handle_endtag\u001b[0;34m(self, name, nsprefix)\u001b[0m\n\u001b[1;32m    760\u001b[0m     \u001b[38;5;28mself\u001b[39m\u001b[38;5;241m.\u001b[39mpushTag(tag)\n\u001b[1;32m    761\u001b[0m     \u001b[38;5;28;01mreturn\u001b[39;00m tag\n\u001b[0;32m--> 763\u001b[0m \u001b[38;5;28;01mdef\u001b[39;00m \u001b[38;5;21mhandle_endtag\u001b[39m(\u001b[38;5;28mself\u001b[39m, name, nsprefix\u001b[38;5;241m=\u001b[39m\u001b[38;5;28;01mNone\u001b[39;00m):\n\u001b[1;32m    764\u001b[0m \u001b[38;5;250m    \u001b[39m\u001b[38;5;124;03m\"\"\"Called by the tree builder when an ending tag is encountered.\u001b[39;00m\n\u001b[1;32m    765\u001b[0m \n\u001b[1;32m    766\u001b[0m \u001b[38;5;124;03m    :param name: Name of the tag.\u001b[39;00m\n\u001b[1;32m    767\u001b[0m \u001b[38;5;124;03m    :param nsprefix: Namespace prefix for the tag.\u001b[39;00m\n\u001b[1;32m    768\u001b[0m \u001b[38;5;124;03m    \"\"\"\u001b[39;00m\n\u001b[1;32m    769\u001b[0m     \u001b[38;5;66;03m#print(\"End tag: \" + name)\u001b[39;00m\n",
      "\u001b[0;31mKeyboardInterrupt\u001b[0m: "
     ]
    }
   ],
   "source": [
    "press_conferences = pd.DataFrame(columns=['date','question','answer'])\n",
    "\n",
    "events = []\n",
    "\n",
    "for player, link_list in links.items():\n",
    "    for link in link_list:\n",
    "        headers = {'User-Agent': 'Mozilla/5.0 (Macintosh; Intel Mac OS X 10.15; rv:121.0) Gecko/20100101 Firefox/121.0'}\n",
    "        response = requests.get(link, headers=headers)\n",
    "        soup = BeautifulSoup(response.text, 'html.parser')\n",
    "\n",
    "        # Getting Data\n",
    "        event = soup.find('h1').text\n",
    "        events.append(event)\n",
    "\n",
    "        dates_loop, answers_loop = sm.parse_interview(link)\n",
    "\n",
    "        bold_text = soup.find_all('b')\n",
    "\n",
    "        questions = sm.get_questions(bold_text) \n",
    "        stripped_questions = [question.strip('Q.') for question in questions]\n",
    "        stripped_questions = [sm.clean_string(question).split() for question in stripped_questions]\n",
    "\n",
    "        print(len(answers_loop), '\\t', len(stripped_questions))\n",
    "\n",
    "\n",
    "\n",
    "\n",
    "        num_to_fill = len(answers_loop) - len(stripped_questions)\n",
    "        stripped_questions = [\"MODERATOR\"] * num_to_fill + stripped_questions\n",
    "        # print(len(dates_loop))\n",
    "        # print(len(stripped_questions))\n",
    "        # print(answers_loop[0])\n",
    "\n",
    "        # temp_df = pd.DataFrame({'date': dates_loop, 'answer': answers_loop, 'question': stripped_questions})\n",
    "        # press_conferences = pd.concat([press_conferences, temp_df], ignore_index=True)\n",
    "        # print('Press conference from:',event,'\\t by:',player)"
   ]
  },
  {
   "cell_type": "code",
   "execution_count": 10,
   "metadata": {},
   "outputs": [],
   "source": [
    "\n",
    "# URL = 'https://www.asapsports.com/show_interview.php?id=194453'\n",
    "# headers = {'User-Agent': 'Mozilla/5.0 (Macintosh; Intel Mac OS X 10.15; rv:121.0) Gecko/20100101 Firefox/121.0'}\n",
    "# response = requests.get(URL, headers=headers)\n",
    "# soup = BeautifulSoup(response.text, 'html.parser')\n",
    "\n",
    "# # Getting Data\n",
    "# event = soup.find('h1')\n",
    "# dates = soup.find('h2')\n",
    "# names_soup = soup.find_all('h3')\n",
    "\n",
    "\n",
    "# names = []\n",
    "# for i in names_soup:\n",
    "#     if i.text in players_names:\n",
    "#         names.append(i.text)\n",
    "\n",
    "\n",
    "# print(dates.text)\n",
    "# print(event.text)\n",
    "# print(names)\n"
   ]
  },
  {
   "cell_type": "code",
   "execution_count": 7,
   "metadata": {},
   "outputs": [],
   "source": [
    "# dates, answers = sm.parse_interview(URL)\n",
    "# niemann_result = pd.DataFrame({'date':dates,'answer':answers})"
   ]
  },
  {
   "cell_type": "code",
   "execution_count": 11,
   "metadata": {},
   "outputs": [],
   "source": [
    "# niemann_result"
   ]
  },
  {
   "cell_type": "code",
   "execution_count": 12,
   "metadata": {},
   "outputs": [],
   "source": [
    "# niemann_result['player'] = [i for i, n in niemann_result['answer']]\n",
    "# niemann_result['answer'] = [n for i, n in niemann_result['answer']]\n",
    "# niemann_result"
   ]
  },
  {
   "cell_type": "code",
   "execution_count": 14,
   "metadata": {},
   "outputs": [],
   "source": [
    "# bold_text = soup.find_all('b')\n",
    "# questions = get_questions(bold_text) \n",
    "# stripped_questions = [question.strip('Q.') for question in questions]\n",
    "# stripped_questions = [sm.clean_string(question).split() for question in stripped_questions]\n",
    "\n",
    "# # Si no hay pregunta para la respuesta, quiero que rellenes con 'MODERATOR' "
   ]
  },
  {
   "cell_type": "markdown",
   "metadata": {},
   "source": [
    "since the moderator questions don't have a fixed pattern, we struggle to retrieve them, we will impute them with 'moderator' in the question; in the text analysis we might get rid of the token so it doesn't consider it an important token."
   ]
  },
  {
   "cell_type": "code",
   "execution_count": 13,
   "metadata": {},
   "outputs": [],
   "source": [
    "# num_to_fill = len(niemann_result['answer']) - len(stripped_questions)\n",
    "# stripped_questions = [\"MODERATOR\"] * num_to_fill + stripped_questions\n",
    "\n",
    "# niemann_result['question'] = stripped_questions"
   ]
  },
  {
   "cell_type": "code",
   "execution_count": 48,
   "metadata": {},
   "outputs": [],
   "source": [
    "# niemann_result['Ans LIV?'] =niemann_result['answer'].apply(lambda x: 1 if 'liv' in x else 0)\n",
    "# niemann_result['Ans PGA?'] =niemann_result['answer'].apply(lambda x: 1 if 'pga' in x else 0)\n",
    "# niemann_result['Q LIV?'] =niemann_result['question'].apply(lambda x: 1 if 'liv' in x else 0)\n",
    "# niemann_result['Q PGA?'] =niemann_result['question'].apply(lambda x: 1 if 'pga' in x else 0)\n"
   ]
  },
  {
   "cell_type": "code",
   "execution_count": 15,
   "metadata": {},
   "outputs": [],
   "source": [
    "#niemann_result"
   ]
  },
  {
   "cell_type": "markdown",
   "metadata": {},
   "source": [
    "### For loop for all the links in the players page"
   ]
  },
  {
   "cell_type": "code",
   "execution_count": 50,
   "metadata": {},
   "outputs": [
    {
     "name": "stdout",
     "output_type": "stream",
     "text": [
      "[('joaquin niemann', ['yeah', 'it', 'feels', 'amazing', \"it's\", 'a', 'super', 'special', 'moment', \"it's\", 'always', 'nice', 'when', 'you', 'win', \"i'm\", 'just', 'more', 'happy', \"i'm\", 'more', 'proud', 'the', 'way', \"i'm\", 'playing', 'right', 'now', 'and', 'the', 'way', 'i', 'played', 'out', 'there', 'today', 'it', 'was', 'a', 'tough', 'day', 'it', 'was', 'windy', 'i', 'knew', 'there', 'was', 'going', 'to', 'be', 'some', 'low', 'scores', 'so', \"i'm\", 'super', 'happy', \"i'm\", 'proud', 'the', 'way', \"i'm\", 'playing', 'i', 'just', 'want', 'to', 'on', 'to', 'the', 'next', 'one']), ('joaquín niemann', ['i', \"wouldn't\", 'say', 'it', 'felt', 'that', 'way', 'at', 'the', 'moment', 'there', 'were', 'some', 'tricky', 'shots', 'out', 'there', 'there', 'were', 'some', 'tough', 'holes', 'especially', 'with', 'this', 'wind', 'last', 'couple', 'holes', 'you', 'have', \"it's\", 'a', 'good', 'finish', 'and', 'also', 'started', 'to', 'feel', 'some', 'pressure', 'there', 'and', 'being', 'able', 'to', 'birdie', 'it', 'kind', 'of', 'chilled', 'me', 'a', 'little', 'bit', 'into']), ('joaquin niemann', ['i', 'mean', 'at', 'least', \"that's\", 'what', 'i', 'think', 'i', 'think', \"that's\", 'the', 'way', 'it', 'should', 'be', 'i', 'want', 'to', 'feel', 'and', 'i', 'want', 'to', 'think', \"i'm\", 'the', 'best', 'all', 'the', 'time', 'i', 'think', \"that's\", 'the', 'only', 'way', 'to', 'be', 'confident', 'and', 'play', 'good', 'golf', 'i', 'think', \"it's\", 'something', 'that', 'you', 'need', 'to', 'believe', 'in', 'yourself', 'to', 'be', 'out', 'here', 'playing', 'this', 'competitive', 'golf', 'and', 'winning', 'tournaments', 'so', 'yeah']), ('joaquin niemann', ['i', 'believe', 'so', 'yeah', 'i', 'feel', 'like', \"it's\", 'probably', 'my', 'best', 'moment', 'the', 'best', \"i've\", 'ever', 'played', 'before', 'i', 'would', 'say', 'i', 'just', 'want', 'it', 'to', 'keep', 'going', 'in', 'the', 'same', 'direction', 'i', 'think', 'there', 'is', 'a', 'lot', 'more', 'to', 'improve', 'and', 'i', 'think', 'i', 'just', 'need', 'to', 'be', 'curious', 'about', 'that', 'and', 'see', 'how', 'much', 'i', 'can', 'learn']), ('joaquin niemann', ['oh', 'that', 'was', 'beautiful', 'yeah', 'that', 'hole', \"i've\", 'been', 'playing', 'here', 'probably', 'this', 'is', 'my', 'fifth', 'time', 'and', 'that', 'hole', 'always', 'kind', 'of', 'got', 'my', 'eye', 'a', 'little', 'bit', 'because', 'normally', 'i', 'hit', 'that', 'low', 'fade', 'and', \"i've\", 'been', 'hitting', 'this', 'low', 'draw', 'right', 'now', 'that', 'is', 'perfectly', 'made', 'for', 'that', 'one', \"it's\", 'kind', 'of', 'like', 'a', 'shot', 'that', 'is', 'not', 'as', 'comfortable', 'to', 'hit', 'all', 'the', 'time', 'but', 'i', 'knew', 'that', 'if', 'i', 'stuck', 'to', 'that', 'shot', 'the', 'whole', 'week', 'the', 'three', 'days', 'i', 'knew', 'it', 'was', 'going', 'to', 'be', 'the', 'right', 'shot', 'it', 'was', 'beautiful', 'i', 'hit', 'a', 'low', 'beautiful', 'draw', 'and', 'it', 'was', 'way', 'down', 'there', 'in', 'the', 'middle', 'of', 'the', 'fairway', 'tight', 'fairway', 'it', 'was', 'a', 'great', 'tee', 'shot']), ('joaquin niemann', ['yeah', 'i', 'used', 'to', 'feel', 'a', 'lot', 'more', 'my', 'right', 'hand', 'when', \"i'm\", 'putting', 'almost', 'all', 'my', 'stroke', 'was', 'more', 'feeling', 'with', 'my', 'right', 'hand', 'normally', 'i', 'would', 'grab', 'it', 'with', 'the', 'right', 'hand', 'and', 'kind', 'of', 'pull', 'it', 'back', 'just', 'to', 'kind', 'of', 'put', 'my', 'shoulders', 'on', 'the', 'right', 'line', 'but', 'now', 'since', \"i'm\", 'working', 'with', 'gary', 'the', 'last', 'couple', 'months', \"i've\", 'been', 'trying', 'to', 'feel', 'like', 'my', 'left', 'arm', 'is', 'more', 'dominant', 'and', \"it's\", 'kind', 'of', 'feeling', 'more', 'like', 'the', 'bigger', 'muscles', 'moving', 'i', 'like', 'to', 'go', 'in', 'only', 'with', 'my', 'left', 'arm', 'and', 'just', 'feel', 'like', \"that's\", 'the', 'only', 'arm', 'that', 'is', 'doing', 'the', 'stroke']), ('joaquin niemann', [\"it's\", 'been', 'streaky', \"i've\", 'been', 'having', 'good', 'weeks', \"i've\", 'been', 'having', 'decent', 'weeks', 'but', 'i', 'certainly', 'think', 'that', \"it's\", 'been', 'improving']), ('joaquin niemann', ['yeah', 'obviously', 'there', 'is', 'a', 'lot', 'more', \"i'll\", 'probably', 'hit', 'drivers', 'a', 'day', \"there's\", 'a', 'lot', 'more', 'shots', 'going', 'on', 'at', 'augusta', \"it's\", 'not', 'only', 'that', 'what', 'i', 'need', 'i', 'need', 'a', 'lot', 'more', 'i', 'need', 'all', 'my', 'game', 'to', 'be', 'on', 'point', 'but', 'yeah', \"that's\", 'obviously', 'a', 'huge', 'boost', 'into', 'my', 'game', 'if', 'i', 'can', 'keep', 'doing', 'the', 'same', 'and', 'try', 'to', 'hit', 'that', 'draw', 'it', 'will', 'be', 'helpful']), ('joaquin niemann', ['yeah', 'that', 'was', 'my', 'goal', 'today', 'was', 'to', 'try', 'to', 'see', 'all', 'my', 'shots', 'from', 'behind', 'and', 'try', 'to', 'go', 'and', 'hit', 'them', 'i', 'never', 'felt', 'like', 'i', 'had', 'one', 'shot', 'where', 'i', 'was', 'kind', 'of', 'doubting', 'or', 'struggling', 'a', 'little', 'bit', 'sometimes', 'i', 'took', 'a', 'little', 'bit', 'more', 'time', 'trying', 'to', 'see', 'the', 'shot', 'i', 'think', \"there's\", 'a', 'few', 'shots', 'that', 'i', 'all', 'the', 'shots', 'that', 'i', 'feel', 'like', 'i', 'went', 'into', 'and', 'hit', 'them', 'they', 'were', 'confident', 'swings', 'some', 'of', 'them', 'they', \"didn't\", 'grab', 'the', 'wind', 'some', 'of', 'them', 'they', 'just', 'came', 'out', 'a', 'little', 'bit', 'different', 'than', 'i', 'wanted', 'but', \"i'm\", 'pretty', 'proud', 'the', 'way', 'i', 'was', 'able', 'to', 'see', 'the', 'flight', 'the', 'ball', 'flight', 'and', 'being', 'able', 'to', 'hit', 'them']), ('joaquin niemann', ['yeah', \"gary's\", 'role', 'was', 'huge', 'not', 'only', 'today', 'during', 'every', 'day', 'we', 'play', 'every', 'day', 'we', 'practice', 'he', 'does', 'a', 'good', 'role', \"he's\", 'pretty', 'good', 'talking', 'me', 'through', 'the', 'shots', 'he', 'knows', 'how', 'to', 'read', 'me', 'pretty', 'well', 'i', 'feel', 'like', 'during', 'those', 'moments', 'where', \"you're\", 'under', 'pressure', 'and', 'you', 'want', 'to', 'keep', 'doing', 'better', 'and', 'kind', 'of', 'stay', 'more', 'in', 'the', 'present', 'i', 'think', \"i've\", 'got', 'something', \"i've\", 'been', 'working', 'on', 'is', 'trying', 'to', 'have', 'more', 'communication', 'with', 'my', 'caddie', 'during', 'the', 'round', 'trying', 'to', 'talk', 'about', 'the', 'shots', 'after', 'i', 'hit', 'the', 'shots', 'what', 'was', 'wrong', 'that', 'not', 'only', 'helps', 'our', 'communication', 'it', 'just', 'helps', 'me', 'to', 'get', 'some', 'feedback', 'on', 'how', 'i', 'hit', 'that', 'shot', \"he's\", 'been', 'doing', 'a', 'great', 'job', 'and', \"we've\", 'been', 'doing', 'a', 'great', 'job', 'together']), ('joaquin niemann', ['yeah', 'obviously', 'every', 'day', 'here', 'is', 'important', 'especially', 'having', 'three', 'days', 'where', \"you've\", 'got', 'to', 'go', 'low', 'on', 'all', 'three', 'of', 'them', 'to', 'have', 'a', 'chance', 'to', 'win', 'the', 'second', 'day', 'was', 'important', 'and', 'i', 'think', \"it's\", 'the', 'most', 'proud', 'i', 'am', 'for', 'the', 'week', 'because', 'i', \"didn't\", 'start', 'playing', 'my', 'best', 'golf', 'and', 'i', 'ended', 'up', 'doing', 'a', 'lot', 'of', 'birdies', 'at', 'the', 'end', 'to', 'have', 'a', 'chance', 'into', 'the', 'lead', 'i', 'think', 'that', 'saturday', 'round', 'was', 'important', 'to', 'kind', 'of', 'put', 'me', 'in', 'position', 'and', 'show', 'me', 'that', 'being', 'patient', 'has', 'its', 'rewards', 'it', 'was', 'nice', 'to', 'see', 'that']), ('joaquin niemann', ['yeah', 'it', 'gives', 'me', 'a', 'lot', 'of', 'confidence', 'obviously', 'having', 'a', 'good', 'week', 'is', 'always', 'positive', 'i', 'think', \"i've\", 'got', 'to', 'go', 'back', 'and', 'get', 'some', 'rest', 'look', 'back', 'into', 'what', 'i', 'did', 'this', 'week', 'the', 'way', 'i', 'played', 'the', 'way', 'i', 'hit', 'the', 'ball', 'and', 'what', 'i', 'can', 'do', 'better', 'i', 'think', 'that', 'was', 'one', 'of', 'the', 'advice', 'that', 'i', 'well', 'not', 'advice', 'but', 'i', 'remember', 'in', 'mayakoba', 'i', 'was', 'with', 'jon', 'in', 'the', 'press', 'conference', 'and', 'he', 'was', 'talking', 'about', 'it', 'that', 'when', 'you', 'win', \"you're\", 'so', 'excited', 'that', 'you', \"don't\", 'really', 'notice', 'what', 'you', 'did', 'well', 'and', \"didn't\", 'do', 'well', 'it', 'made', 'so', 'much', 'sense', 'what', 'he', 'said', 'he', 'was', 'right', 'i', 'think', 'there', 'is', 'a', 'lot', 'of', 'positive', 'things', 'that', \"i've\", 'got', 'to', 'take', 'from', 'this', 'week', 'obviously', 'because', 'of', 'winning', 'and', 'see', 'what', 'i', 'can', 'do', 'better', 'for', 'next', 'week', 'like', 'i', 'said', 'also', 'in', 'mexico', 'i', 'would', 'love', 'to', 'be', 'in', 'this', 'situation', 'but', 'having', 'the', 'three', 'other', 'guys', 'here', 'next', 'to', 'me', 'would', 'be', 'a', 'lot', 'more', 'fun'])]\n",
      "Press conference from: LIV GOLF JEDDAH\n",
      "[('joaquín niemann', ['it', 'was', 'a', 'great', 'day', 'way', 'better', 'day', 'than', 'yesterday', 'the', 'way', 'i', 'started', 'i', 'was', 'obviously', 'playing', 'great', 'i', 'started', 'with', 'seven', 'pars', 'in', 'a', 'row', 'and', 'i', \"didn't\", 'get', 'off', 'to', 'a', 'hot', 'start', 'like', 'i', 'did', 'yesterday', 'and', 'i', 'kept', 'playing', 'better', 'and', 'better', 'during', 'the', 'day', 'i', 'really', 'take', 'positive', 'the', 'way', 'i', 'played', 'at', 'the', 'end', 'of', 'the', 'last', 'couple', 'holes', 'today']), ('joaquín niemann', ['no', 'i', 'think', 'it', 'was', 'just', 'being', 'patient', 'everything', 'i', 'was', 'doing', 'i', 'was', 'hitting', 'it', 'great', 'i', 'was', 'putting', 'great', 'i', 'just', \"didn't\", 'make', 'birdies', 'like', 'on', 'no', 'i', 'had', 'a', 'good', 'chance', 'and', \"didn't\", 'make', 'birdie', 'there', 'the', 'wind', 'was', 'playing', 'a', 'little', 'bit', 'more', 'into', 'than', 'normally', 'so', 'i', 'think', 'it', 'was', 'playing', 'a', 'little', 'bit', 'longer', 'then', 'i', 'hit', 'a', 'great', 'shot', 'on', 'no', 'to', 'make', 'birdie', 'there', 'and', 'i', 'made', 'a', 'great', 'putt', 'on', 'no', 'too', 'kind', 'of', 'gave', 'me', 'a', 'lot', 'of', 'confidence', 'and', 'momentum', 'for', 'the', 'round', 'i', 'kept', 'hitting', 'good', 'shots', 'on', 'i', 'hit', 'a', 'great', 'bunker', 'shot', 'it', 'was', 'just', 'being', 'patient', 'and', 'just', 'staying', 'in', 'the', 'moment', 'and', 'i', 'ended', 'up', 'doing', 'good', 'putts', 'good', 'birdies']), ('joaquín niemann', ['yeah', 'really', \"that's\", 'my', 'goal', 'is', 'to', 'win', 'this', 'week', 'i', 'know', \"there's\", 'a', 'lot', 'of', 'golf', 'to', 'play', 'tomorrow', \"there's\", 'a', 'lot', 'of', 'shots', 'that', \"i've\", 'got', 'to', 'hit', 'tomorrow', 'and', \"i've\", 'got', 'to', 'be', 'confident', 'doing', 'those', \"i'm\", 'still', 'a', 'long', 'long', 'way', 'away', 'from', 'the', 'position', 'where', 'i', 'want', 'to', 'be', 'i', 'just', 'go', 'from', 'there', 'and', 'hopefully', 'tomorrow', 'have', 'a', 'great', 'day', 'too', 'see', 'my', 'shots', 'stay', 'calm', 'and', 'just', 'do', 'the', 'same', 'i', 'know', 'it', 'sounds', 'easy', 'to', 'just', 'keep', 'doing', 'the', 'same', 'but', \"it's\", 'just', 'the', 'same']), ('joaquín niemann', ['everything', 'is', 'going', 'a', 'little', 'better', 'i', 'think', 'my', 'driving', 'since', 'australia', 'has', 'been', 'so', 'good', \"i've\", 'been', 'able', 'to', 'hit', 'all', 'the', 'trajectories', 'that', 'i', 'want', 'to', 'and', 'been', 'confident', 'with', 'those', 'and', 'be', 'aggressive', 'off', 'the', 'tee', 'hitting', 'that', 'high', 'draw', 'more', 'often', 'that', 'i', 'normally', 'do', 'doing', 'that', 'shot', 'i', 'gain', 'at', 'least', 'yards', 'on', 'the', 'other', 'routine', 'low', 'cut', 'that', 'i', 'had', 'before', 'being', 'confident', 'with', 'that', 'high', 'draw', 'i', 'think', 'has', 'helped', 'me', 'a', 'lot', 'being', 'confident', 'on', 'the', 'rest', 'of', 'my', 'game', 'so', 'i', 'can', 'be', 'more', 'aggressive', 'off', 'the', 'tee', 'on', 'my', 'second', 'shots', 'also', 'everything', 'is', 'going', 'better', 'around', 'the', 'green', 'i', 'feel', 'like', \"i'm\", 'chipping', 'a', 'lot', 'better', 'i', 'think', \"that's\", 'something', 'that', 'i', 'still', 'need', 'a', 'lot', 'of', 'work', 'i', 'know', 'i', 'can', 'get', 'a', 'lot', 'better', 'around', 'the', 'greens', 'and', 'i', 'think', \"that's\", 'what', 'you', 'need', 'to', 'play', 'really', 'good', 'and', 'consistent', 'golf', 'especially', 'in', 'the', 'majors']), ('joaquín niemann', ['i', 'think', 'on', 'my', 'second', 'shot', 'on', 'it', 'was', 'a', 'weird', 'lie', 'it', 'was', 'kind', 'of', 'on', 'the', 'first', 'cut', 'a', 'little', 'into', 'the', 'grain', 'hit', 'my', 'iron', 'my', 'rescue', 'and', 'i', 'was', 'trying', 'to', 'draw', 'it', 'around', 'the', 'water', 'kind', 'of', 'aiming', 'at', 'the', 'right', 'bunkers', 'and', 'if', 'i', 'hit', 'it', 'straight', 'it', 'was', 'going', 'to', 'be', 'in', 'the', 'bunkers', 'it', 'was', 'a', 'tricky', 'lie', 'i', 'hit', 'a', 'good', 'swing', 'and', 'it', 'ended', 'up', 'being', 'on', 'the', 'green', 'pin', 'high', 'on', 'the', 'left', 'which', 'i', 'think', 'it', 'was', 'a', 'great', 'shot']), ('joaquín niemann', ['i', 'had', 'like', 'to', 'the', 'front', 'and', 'i', 'was', 'just', 'playing', 'for', 'the', 'front', 'and', 'knew', 'it', 'was', 'going', 'to', 'release', 'it', 'was', 'a', 'good', 'number', 'it', 'was', 'a', 'tricky', 'lie', 'but', 'it', 'ended', 'up', 'being', 'pretty', 'good']), ('joaquín niemann', ['i', 'was', 'just', 'thankful', 'that', 'that', 'shot', 'on', 'was', 'good', 'but', 'i', 'think', 'my', 'best', 'shot', 'of', 'the', 'day', 'i', 'think', 'was', 'on', 'no', 'the', 'bunker', 'shot', 'i', 'had', 'like', 'an', 'uphill', 'lie', 'the', 'pin', 'was', 'all', 'the', 'way', 'in', 'the', 'back', 'it', 'was', 'like', 'a', 'yard', 'bunker', 'shot', 'with', 'the', 'wind', 'and', 'i', 'had', 'to', 'land', 'it', 'all', 'the', 'way', 'there', 'i', 'hit', 'a', 'degree', 'from', 'there', 'and', 'i', 'think', \"it's\", 'kind', 'of', 'like', 'a', 'hybrid', 'shot', 'because', 'you', 'hit', 'it', 'clean', 'and', \"it's\", 'going', 'way', 'past', 'the', 'green', 'and', 'you', 'could', 'also', 'hit', 'it', 'pretty', 'fat', 'too', 'it', 'was', 'a', 'great', 'shot', 'that', 'was', 'my', 'favorite', 'of', 'the', 'day']), ('joaquín niemann', ['yeah', 'i', 'felt', 'really', 'happy', 'when', 'i', 'finished', 'the', 'round', 'with', 'how', 'i', 'was', 'patient', 'i', \"couldn't\", 'make', 'birdies', 'on', 'no', 'on', 'no', 'i', 'hit', 'a', 'good', 'putt', 'there', 'could', 'have', 'been', 'a', 'few', 'birdies', 'before', 'no', 'but', 'i', 'knew', 'kind', 'of', 'told', 'myself', 'that', 'i', 'know', 'i', 'can', 'make', 'birdie', 'on', 'every', 'hole', 'here', 'i', 'just', 'need', 'to', 'keep', 'hitting', 'my', 'shots', 'and', 'i', \"don't\", 'need', 'to', 'lose', 'any', 'focus', 'because', 'of', 'not', 'making', 'birdies', 'and', 'i', 'think', 'i', 'just', 'stayed', 'with', 'my', 'same', 'game', 'and', 'just', 'being', 'patient', 'and', 'waiting', 'for', 'those', 'birdies', 'to', 'come'])]\n",
      "Press conference from: LIV GOLF JEDDAH\n",
      "[('jon rahm', ['really', 'really', 'good', 'day', 'drove', 'it', 'great', 'drove', 'it', 'really', 'good', 'besides', 'maybe', 'one', 'tee', 'shot', 'and', 'even', 'then', 'i', 'ended', 'up', 'in', 'a', 'good', 'spot', 'on', 'anytime', 'you', 'shoot', 'a', 'bogey', 'free', \"there's\", 'not', 'much', 'that', 'goes', 'wrong', 'put', 'it', 'in', 'the', 'right', 'spots', 'and', 'gave', 'myself', 'the', 'opportunities', 'the', 'key', 'for', 'that', 'low', 'of', 'a', 'score', 'was', 'three', 'lengthy', 'putts', 'that', 'i', 'made', 'a', 'long', 'one', 'on', 'a', 'long', 'one', 'on', 'and', 'maybe', 'mid', 'range', 'to', 'long', 'on', 'that', 'last', 'one', 'on', 'the', 'nd', 'to', 'finish', 'the', 'day', 'that', 'obviously', 'improved', 'the', 'score', 'a', 'little', 'bit', 'but', 'overall', 'it', 'was', 'really', 'good', 'inside', 'feet', 'made', 'pretty', 'much', 'every', 'putt', 'i', 'looked', 'at', 'so', \"that's\", 'always', 'going', 'to', 'be', 'good', 'hopefully', 'i', 'can', 'just', 'keep', 'playing', 'as', 'good', 'as', 'i', 'have', 'and', 'keep', 'rolling', 'it', 'in']), ('jon rahm', ['like', 'everything', \"there's\", 'going', 'to', 'be', 'a', 'few', 'spots', 'where', 'when', \"you've\", 'played', 'a', 'couple', 'more', 'times', 'a', 'couple', 'breaks', 'or', 'situations', 'wind', 'differences', \"you're\", 'going', 'to', 'have', 'more', 'experience', 'on', 'but', \"it's\", 'not', 'a', 'golf', 'course', 'that', 'is', 'very', 'tricky', 'tee', 'to', 'green', 'like', \"it's\", 'very', 'much', 'in', 'front', 'of', 'you', 'you', 'know', 'where', 'you', 'have', 'to', 'go', 'you', 'just', 'have', 'to', 'hit', 'good', 'shots', 'i', 'feel', 'like', 'my', 'record', 'when', \"i'm\", 'playing', 'tournaments', 'for', 'the', 'first', 'time', 'has', 'been', 'pretty', 'good', 'for', 'some', 'reason', 'sometimes', 'not', 'knowing', 'is', 'a', 'blessing']), ('joaquin niemann', ['yeah', 'it', 'was', 'a', 'good', 'day', 'since', 'the', 'start', 'i', 'hit', 'the', 'ball', 'great', 'gave', 'myself', 'a', 'lot', 'of', 'chances', 'made', 'a', 'few', 'good', 'putts', 'too', 'and', 'i', 'think', 'i', 'could', 'have', 'made', 'probably', 'two', 'shots', 'less', 'on', 'the', 'last', 'two', 'holes', 'but', 'still', 'a', 'really', 'good', 'round', 'i', 'had', 'a', 'lot', 'of', 'fun', 'playing', 'with', 'jon', 'and', 'phil', 'this', 'course', 'is', 'always', 'fun', 'to', 'play', 'this', 'is', 'probably', 'my', 'fifth', 'time', 'here', 'i', 'always', 'have', 'a', 'good', 'time', 'playing', 'with', 'this', 'weather', 'well', 'when', \"it's\", 'not', 'too', 'hot', 'with', 'this', 'wind', \"it's\", 'fun', 'to', 'play', \"it's\", 'a', 'good', 'setup', \"it's\", 'a', 'good', 'course', 'and', \"you've\", 'got', 'to', 'hit', 'good', 'shots', \"it's\", 'a', 'lot', 'of', 'fun', 'to', 'play', 'here']), ('joaquin niemann', ['yeah', 'i', 'think', \"it's\", 'been', 'good', 'but', 'i', 'just', 'need', 'to', 'focus', 'on', 'what', 'i', 'have', 'to', 'do', 'better', 'i', 'think', 'if', 'i', 'just', 'keep', 'doing', 'that', 'then', 'good', 'things', 'are', 'going', 'to', 'come', 'from', 'that', 'i', 'think', \"i'm\", 'a', 'believer', 'that', 'if', 'you', 'do', 'things', 'right', 'good', 'things', 'are', 'coming', 'your', 'way', 'i', 'just', 'want', 'to', 'keep', 'doing', 'the', 'same', 'this', 'is', 'what', 'i', 'love', 'to', 'do', 'come', 'here', 'play', 'tournaments', 'have', 'a', 'chance', 'to', 'win', \"it's\", 'always', 'fun', \"i've\", 'just', 'been', 'enjoying', 'this', 'moment', 'and', \"it's\", 'been', 'great', 'to', 'get', 'into', 'the', 'masters', \"i'm\", 'just', 'super', 'excited', 'for', 'that']), ('jon rahm', ['yeah', 'i', 'think', 'what', 'were', 'we', 'under', 'as', 'a', 'group', 'when', 'you', 'see', 'your', 'playing', 'competitors', 'playing', 'partners', 'hit', 'good', 'shots', 'after', 'good', 'shots', 'even', 'on', 'par', 's', 'or', 'on', 'holes', 'where', \"you're\", 'in', 'a', 'similar', 'situation', 'you', 'see', 'them', 'go', 'first', 'and', 'hit', 'good', 'shots', \"it's\", 'always', 'going', 'to', 'feed', 'into', 'the', 'rest', 'of', 'the', 'group', 'you', 'keep', 'seeing', 'the', 'ball', 'go', 'in', 'i', 'feel', 'like', \"it's\", 'such', 'a', 'positive', 'vibe', 'that', 'it', 'shows', 'it', 'makes', 'you', 'play', 'a', 'little', 'bit', 'better', 'plus', 'joaquín', 'is', 'great', 'to', 'play', 'with', 'and', 'phil', 'and', 'i', 'have', 'played', 'so', 'many', 'golf', 'rounds', 'together', 'and', 'being', 'with', 'him', 'again', 'on', 'the', 'golf', 'course', 'was', 'a', 'lot', 'of', 'fun', 'i', 'could', 'say', 'there', 'was', 'a', 'lot', 'going', 'for', 'me', 'today', 'to', 'possibly', 'have', 'a', 'good', 'round']), ('joaquin niemann', ['yeah', 'i', 'think', \"i've\", 'been', 'really', 'good', 'lately', 'with', 'my', 'driver', 'and', 'i', 'think', \"it's\", 'just', 'building', 'confidence', 'from', 'it', 'i', 'like', 'being', 'aggressive', 'off', 'the', 'tee', 'and', 'i', 'think', 'there', 'is', 'a', 'lot', 'of', 'holes', 'here', 'where', 'you', 'hit', 'the', 'fairway', 'and', \"you're\", 'down', 'there', \"you're\", 'going', 'to', 'have', 'a', 'better', 'chance', 'to', 'make', 'birdie', \"i'm\", 'kind', 'of', 'going', 'that', 'way', 'taking', 'advantage', 'of', 'that', 'a', 'little', 'bit', 'and', 'yeah', 'this', 'is', 'one', 'of', 'the', 'courses', 'that', \"i've\", 'played', 'it', 'a', 'few', 'times', 'i', 'know', 'the', 'lines', 'i', 'know', 'where', 'the', 'good', 'misses', 'are', 'i', 'feel', 'pretty', 'good', 'off', 'the', 'tee', 'on', 'most', 'of', 'the', 'holes', 'here']), ('joaquin niemann', ['normally', \"it's\", 'coming', 'from', 'the', 'north', 'north', 'northwest', 'and', 'yeah', 'we', 'started', 'with', 'the', 'opposite', 'wind', 'almost', 'today', 'and', 'probably', 'for', 'four', 'or', 'five', 'holes', 'it', 'was', 'the', 'opposite', 'and', 'then', 'it', 'went', 'back', 'to', 'normal', \"i've\", 'never', 'seen', 'it', 'like', 'that', 'i', 'think', \"it's\", 'always', 'really', 'consistent', 'in', 'the', 'same', 'direction', 'you', 'can', 'adjust', 'a', 'little', 'bit', 'but', 'the', 'course', 'is', 'still', 'there', \"you've\", 'still', 'got', 'to', 'hit', 'the', 'shots', 'and', 'it', \"doesn't\", 'change', 'much']), ('jon rahm', ['i', 'felt', 'horrible', 'on', 'the', 'tee', 'because', 'obviously', 'he', 'was', 'happy', 'to', 'make', 'a', 'and', 'he', 'hit', 'such', 'a', 'good', 'quality', 'shot', 'in', 'there', 'i', 'think', 'all', 'of', 'us', 'were', 'surprised', 'that', 'it', \"didn't\", 'turn', 'in', 'a', 'couple', 'more', 'yards', 'we', 'saw', 'it', 'land', 'i', 'gave', 'it', 'the', 'courtesy', 'second', 'or', 'two', 'and', 'then', 'i', 'said', 'good', 'shot', 'phil', 'and', 'then', 'the', 'next', 'time', 'i', 'look', 'up', 'the', 'ball', 'is', 'going', 'down', 'off', 'the', 'green', 'spent', 'the', 'entire', 'hole', 'walking', 'up', 'to', 'the', 'green', 'next', 'to', 'him', 'thinking', 'do', 'i', 'say', 'anything', 'what', 'do', 'i', 'say', 'now', 'so', 'when', 'he', 'chipped', 'in', 'i', 'told', 'him', 'man', 'thank', 'god', 'and', 'i', 'told', 'him', 'exactly', 'what', 'happened', 'and', \"that's\", 'why', 'we', 'were', 'laughing', 'i', 'just', 'felt', 'bad', \"it's\", 'one', 'of', 'those', 'things', 'that', 'happen', 'in', 'golf', 'it', 'was', 'such', 'a', 'beautiful', 'shot', 'he', 'deserved', 'that']), ('jon rahm', ['saying', 'that', 'i', \"don't\", 'have', 'much', 'experience', 'in', 'team', 'sports', 'is', 'not']), ('jon rahm', [\"that's\", 'not', 'really', 'true', \"i've\", 'been', 'part', 'of', 'teams', 'my', 'entire', 'life', 'growing', 'up', 'the', 'way', 'you', 'basically', 'get', 'into', 'golf', 'in', 'spain', \"it's\", 'always', 'through', 'teams', 'you', 'first', 'are', 'maybe', 'would', 'be', 'my', 'province', 'team', 'and', 'then', 'you', 'become', 'your', 'state', 'team', 'and', 'then', 'national', 'team', 'and', 'then', 'college', \"i've\", 'been', 'part', 'of', 'a', 'team', 'my', 'entire', 'life', \"it's\", 'some', 'of', 'the', 'most', 'fond', 'memories', 'i', 'have', 'on', 'the', 'golf', 'course', \"that's\", 'why', 'i', \"don't\", 'think', 'it', 'was', 'that', 'hard', 'of', 'a', 'transition', 'in', 'that', 'sense', 'because', \"i've\", 'been', 'a', 'part', 'of', 'plus', 'four', 'years', 'of', 'college', 'golf', 'i', 'think', 'when', 'i', 'turned', 'pro', 'it', 'was', 'the', 'first', 'time', 'i', \"wasn't\", 'part', 'of', 'a', 'team', \"it's\", 'just', 'something', 'that', 'i', 'enjoy', 'i', \"don't\", 'feel', 'the', 'pressure', 'to', 'go', 'out', 'there', 'and', 'lead', 'but', 'if', \"i'm\", 'not', 'having', 'my', 'best', 'day', 'and', 'i', 'see', 'my', 'teammates', 'doing', 'well', 'it', 'definitely', 'helps', 'you', 'in', 'a', 'different', 'way', 'to', 'play', 'a', 'little', 'bit', 'better', 'if', 'needed']), ('jon rahm', ['it', 'is', 'funny', 'because', 'after', 'the', 'tee', 'shot', 'i', 'told', 'adam', 'we', 'can', 'just', 'make', 'the', 'traditional', 'way', 'and', 'when', 'i', 'made', 'it', 'he', 'told', 'me', 'that', 'was', 'not', 'the', 'traditional', 'way', 'i', 'said', 'if', 'anything', \"it's\", 'the', 'spanish', 'way', 'from', 'trouble', 'to', 'trouble', 'good', 'shot', 'make', 'the', 'putt', 'i', 'just', 'hit', 'it', 'left', 'i', 'thought', 'about', 'going', 'for', 'the', 'green', 'just', 'not', 'a', 'good', 'enough', 'lie', 'and', 'i', 'caught', 'a', 'massive', 'flier', 'on', 'the', 'i', 'was', 'yards', 'from', 'that', 'bunker', 'trying', 'to', 'just', 'chip', 'an', 'iron', 'and', 'it', 'never', 'came', 'down', 'then', 'from', 'the', 'bunker', 'luckily', 'i', 'drew', 'a', 'good', 'lie', 'it', \"wasn't\", 'the', 'hardest', 'shot', 'in', 'the', 'world', 'i', 'certainly', \"didn't\", 'expect', 'it', 'to', 'go', 'left', 'of', 'the', 'pin', 'but', 'distance', 'wise', 'it', 'was', 'a', 'good', 'number', 'and', 'a', 'good', 'lie', 'it', \"wasn't\", 'the', 'hardest', 'with', 'the', 'conditions', 'we', 'had', 'today', 'but', 'obviously', 'you', 'still', 'have', 'to', 'hit', 'the', 'shot', \"it's\", 'just', \"you've\", 'got', 'to', 'fight', 'for', 'the', 'score', 'every', 'shot', 'every', 'situation', \"you're\", 'in', 'certainly', 'i', \"didn't\", 'shy', 'away', 'from', 'trying', 'to', 'make', 'a', 'birdie', \"that's\", 'for', 'sure']), ('jon rahm', [\"it's\", 'not', 'quite', 'the', 'same', 'most', 'of', 'the', 'courses', 'we', 'play', 'over', 'there', 'once', \"you're\", 'off', 'grass', \"you're\", 'in', 'rocks', 'so', 'the', 'ball', 'is', 'not', 'really', 'playable', 'a', 'lot', 'of', 'times', \"it's\", 'a', 'little', 'bit', 'different', 'and', \"it's\", 'different', 'type', 'of', 'grass', 'as', 'well', 'do', 'i', 'feel', 'comfortable', 'with', 'maybe', 'a', 'little', 'dustier', 'look', 'and', 'the', 'heat', 'yeah', \"it's\", 'not', 'too', 'far', 'from', 'what', 'arizona', 'is', 'like', 'but', 'the', 'golf', 'course', 'itself', 'is', 'very', 'different', 'to', 'what', 'we', 'would', 'see', 'but', \"it's\", 'like', 'what', 'joaco', 'said', \"it's\", 'a', 'fantastic', 'golf', 'course', 'where', 'you', 'need', 'to', 'hit', 'quality', 'shots', 'and', 'if', \"you're\", 'aggressive', 'and', 'pull', 'it', 'off', 'you', 'can', 'pull', 'off', 'a', 'score', 'and', \"that's\", 'what', 'we', 'did', 'today']), ('joaquin niemann', ['i', 'think', 'it', 'was', 'a', 'little', 'bit', 'of', 'everything', 'when', 'i', 'look', 'back', 'now', 'from', 'last', 'season', 'i', \"wasn't\", 'playing', 'my', 'best', 'golf', 'and', 'i', 'think', 'everything', 'was', 'a', 'little', 'bit', 'weaker', 'off', 'the', 'tee', 'iron', 'shots', 'putting', 'my', 'routines', 'off', 'the', 'golf', 'course', 'i', 'think', 'the', 'way', 'i', 'worked', 'on', 'my', 'game', 'and', 'the', 'way', 'i', 'did', 'my', 'preparation', 'before', 'the', 'tournaments', 'i', 'think', \"it's\", 'a', 'little', 'bit', 'of', 'everything', \"i'm\", 'trying', 'to', 'improve', 'right', 'now', 'on', 'everything', 'as', 'much', 'as', 'i', 'can', 'obviously', 'i', 'had', 'a', 'few', 'changes', 'in', 'my', 'swing', 'in', 'the', 'technique', 'that', 'i', 'was', 'struggling', 'with', 'a', 'little', 'bit', 'and', 'now', \"it's\", 'been', 'feeling', 'a', 'little', 'bit', 'better', \"i've\", 'been', 'getting', 'more', 'confident', 'in', 'my', 'swing', 'too', 'being', 'able', 'to', 'see', 'those', 'shots', 'and', 'just', 'commit', 'to', 'them', 'and', 'go', 'hit', 'them', 'i', 'think', \"it's\", 'just', 'building', 'confidence', 'during', 'the', 'last', 'couple', 'months', 'it', 'just', 'shows', 'whenever', 'anything', 'is', 'going', 'in', 'the', 'right', 'direction', \"it's\", 'a', 'little', 'bit', 'easier']), ('joaquin niemann', ['me', 'everything']), ('jon rahm', ['strategy', 'keep', 'executing', 'the', 'shots', 'the', 'way', 'you', 'see', 'it', \"there's\", 'no', 'elaborate', 'answer', 'to', 'that', \"it's\", 'just', 'keep', 'playing', 'good', 'golf', 'you', 'have', 'to', 'stay', 'aggressive', 'and', 'give', 'yourself', 'plenty', 'of', 'chances', \"it's\", 'a', 'golf', 'course', 'that', 'allows', 'you', 'to', 'be', 'aggressive', 'and', 'i', 'think', 'if', 'you', 'try', 'to', 'dial', 'it', 'back', 'a', 'little', 'bit', \"it's\", 'hard', 'to', 'score', 'on', 'i', 'think', 'you', 'can', 'see', 'with', 'both', 'of', 'us', 'every', 'single', 'chance', 'we', 'could', 'driver', 'was', 'in', 'our', 'hands', 'hit', 'it', 'up', 'as', 'close', 'to', 'the', 'green', 'as', 'possible', 'and', 'give', 'yourself', 'a', 'wedge', 'because', \"that's\", 'how', 'you', 'can', 'attack', 'this', 'golf', 'course', 'if', 'the', 'wind', 'comes', 'up', 'scores', 'are', 'going', 'to', 'be', 'a', 'little', 'bit', 'lower', 'but', 'it', \"doesn't\", 'really', 'change', 'in', 'that', 'sense']), ('jon rahm', [\"we're\", 'all', 'grown', 'men', 'they', 'can', 'take', 'care', 'of', 'themselves', 'when', \"they're\", 'playing', 'this', 'good', \"there's\", 'nothing', 'i', 'have', 'to', 'say', 'everybody', 'on', 'the', 'team', 'is', 'very', 'competitive', 'if', \"there's\", 'anything', 'i', 'have', 'to', 'say', \"it's\", 'keep', 'fighting', 'every', 'shot', 'counts', 'no', 'matter', 'what', 'keep', 'trying', 'to', 'post', 'a', 'score', 'especially', 'sunday', 'when', 'every', 'score', 'actually', 'does', 'count', 'never', 'give', 'up', 'and', 'stay', 'strong', 'because', \"we've\", 'all', 'been', 'playing', 'well', 'and', 'kieran', 'is', 'playing', 'really', 'good', 'golf', \"it's\", 'just', 'not', 'there', 'yet', 'and', 'i', 'think', 'at', 'one', 'point', \"it's\", 'going', 'to', 'click', 'and', \"he's\", 'going', 'to', 'put', 'in', 'a', 'low', 'one', 'when', 'things', 'are', 'going', 'this', 'well', \"there's\", 'not', 'much', 'i', 'should', 'be', 'saying', 'i', 'think', 'just', 'let', 'them', 'do', 'what', 'they', 'have', 'to', 'do'])]\n",
      "Press conference from: LIV GOLF JEDDAH\n",
      "[('joaquin niemann', ['yeah', 'it', 'was', 'a', 'lot', 'of', 'different', 'days', 'obviously', 'the', 'first', 'day', 'coming', 'with', 'expectations', 'i', 'was', 'playing', 'good', 'first', 'tournament', 'of', 'the', 'liv', 'season', 'and', 'i', 'was', 'expecting', 'a', 'lot', 'from', 'myself', 'and', 'i', 'was', 'able', 'to', 'manage', 'myself', 'through', 'the', 'golf', 'course', 'really', 'well', 'and', 'ended', 'up', 'shooting', 'which', 'was', 'i', 'think', \"it's\", 'a', 'dream', 'to', 'be', 'under', 'it', 'was', 'close', 'for', 'the', 'but', 'not', 'quite', 'then', 'saturday', 'was', 'a', 'really', 'tricky', 'day', 'the', 'wind', 'got', 'up', 'obviously', 'i', 'was', 'on', 'the', 'lead', 'by', 'a', 'few', 'strokes', 'i', 'think', 'it', 'was', 'a', 'little', 'bit', 'harder', 'to', 'play', 'well', 'after', 'that', 'round', 'and', 'then', 'the', 'wind', 'getting', 'up', 'then', 'saturday', 'was', 'still', 'a', 'pretty', 'good', 'day', 'a', 'good', 'test', 'for', 'what', 'was', 'coming', 'on', 'sunday', 'then', 'sunday', 'started', 'a', 'little', 'bit', 'different', 'because', 'i', 'got', 'a', 'two', 'shot', 'penalty', 'on', 'sunday', 'morning', 'which', 'it', 'was', 'a', 'little', 'bit', 'hard', 'to', 'swallow', 'at', 'the', 'beginning', 'but', 'then', 'i', 'knew', 'that', 'i', 'had', 'to', 'change', 'the', 'situation', 'and', 'not', 'let', 'the', 'situation', 'beat', 'me', 'i', 'think', 'it', 'gave', 'me', 'more', 'energy', 'to', 'go', 'out', 'and', 'fight', 'and', 'prove', 'myself', 'that', \"it's\", 'not', 'going', 'to', 'bother', 'me', \"i'm\", 'pretty', 'happy', 'that', 'the', 'day', 'ended', 'up', 'this', 'way', 'especially', 'how', 'the', 'morning', 'started', 'i', 'think', 'dinner', 'is', 'going', 'to', 'taste', 'a', 'little', 'bit', 'better', 'than', 'breakfast']), ('joaquin niemann', ['yeah', 'at', 'the', 'first', 'playoff', 'hole', 'i', \"didn't\", 'think', 'it', 'was', 'going', 'to', 'get', 'too', 'dark', 'i', 'thought', 'it', 'was', 'going', 'to', 'take', 'a', 'little', 'bit', 'you', 'never', 'know', \"what's\", 'going', 'to', 'happen', 'but', 'i', 'was', 'expecting', 'to', 'go', 'as', 'fast', 'as', 'i', 'could', 'i', 'think', 'i', 'got', 'lucky', 'on', 'the', 'first', 'playoff', 'hole', 'i', \"didn't\", 'hit', 'the', 'best', 'driver', 'i', 'hit', 'it', 'right', 'and', 'it', 'hit', 'a', 'tree', 'so', 'it', 'bounced', 'left', 'i', 'think', 'that', 'shot', 'right', 'there', 'got', 'me', 'back', 'from', 'that', 'two', 'shot', 'penalty', 'that', 'i', 'had', 'this', 'morning', 'i', 'kind', 'of', 'took', 'it', 'that', 'way', 'yeah', 'just', 'go', 'one', 'shot', 'at', 'a', 'time', \"i'm\", 'in', 'a', 'playoff', 'especially', 'with', 'sergio', 'on', 'the', 'first', 'tee', 'shot', 'that', 'he', 'hit', 'the', 'fairway', 'it', 'was', 'a', 'second', 'shot', 'that', 'he', 'got', 'into', 'the', 'wind', 'and', 'ended', 'up', 'being', 'on', 'the', 'front', 'of', 'the', 'green', 'had', 'a', 'good', 'drop', 'also', 'for', 'me', 'which', 'i', 'was', 'in', 'the', 'rough', 'and', 'then', 'i', 'ended', 'up', 'getting', 'a', 'drop', 'into', 'the', 'fairway', 'which', 'was', 'good', 'too', 'then', 'after', 'that', 'i', 'hit', 'my', 'driver', 'incredible', 'the', 'next', 'three', 'holes', 'my', 'ball', 'was', 'within', 'probably', 'a', 'radius', 'of', 'one', 'yard', 'i', 'saw', 'my', 'divot', 'from', 'the', 'two', 'holes', 'before', 'on', 'the', 'last', 'hole', 'so', 'i', 'had', 'the', 'same', 'number', 'for', 'the', 'last', 'three', 'times', 'and', 'that', 'made', 'it', 'a', 'little', 'bit', 'easier', 'after', 'the', 'last', 'hole', 'i', 'saw', 'sergio', 'missing', 'it', 'right', 'which', 'is', 'not', 'in', 'a', 'good', 'spot', 'and', 'i', 'just', 'told', 'myself', 'to', 'give', 'myself', 'a', 'chance', 'and', 'ended', 'up', 'hitting', 'a', 'good', 'shot', 'and', 'making', 'that', 'putt', 'which', 'was', 'awesome']), ('joaquin niemann', ['yeah', 'it', 'would', 'have', 'been', 'nice', 'to', 'feel', 'a', 'little', 'bit', 'alone', 'here', \"it's\", 'always', 'fun', 'to', 'have', 'the', 'three', 'other', 'mito', 'sebastian', 'and', 'carlos', 'on', 'my', 'side', 'here', 'especially', 'on', 'interviews', 'i', 'think', 'it', 'makes', 'it', 'a', 'little', 'bit', 'more', 'fun', 'it', 'would', 'have', 'been', 'nice', 'being', 'with', 'them', 'throwing', 'champagne', 'but', 'i', 'think', \"it's\", 'still', 'good', 'we', 'still', 'had', 'a', 'good', 'finish', 'we', 'were', 'kind', 'of', 'outside', 'the', 'top', 'during', 'the', 'day', 'and', 'they', 'started', 'making', 'some', 'birdies', 'and', 'we', 'ended', 'up', 'in', 'the', 'top', 'obviously', \"it's\", 'a', 'little', 'bit', 'harder', 'with', 'the', 'format', 'being', 'the', 'four', 'scorecards', \"we've\", 'got', 'to', 'play', 'the', 'four', 'of', 'us', 'really', 'good', 'golf', \"it's\", 'still', 'a', 'good', 'finish', 'for', 'the', 'team', 'i', 'think', \"we've\", 'got', 'a', 'lot', 'more', 'to', 'prove', 'during', 'the', 'season', 'and', \"it's\", 'nice', 'to', 'take', 'that', 'first', 'win', 'for', 'individual', 'as', 'a', 'team']), ('joaquin niemann', [\"it's\", 'hard', 'to', 'tell', 'especially', 'in', 'this', 'game', 'which', 'is', 'hard', 'but', 'yeah', 'i', 'was', 'playing', 'great', 'i', 'was', 'being', 'really', 'confident', 'on', 'the', 'golf', 'course', 'and', 'hitting', 'my', 'shots', 'i', 'was', 'more', 'excited', 'than', 'anything', 'to', 'start', 'the', 'season', 'to', 'start', 'playing', 'on', 'liv', 'and', 'start', 'playing', 'for', 'my', 'teammates', 'i', 'was', 'just', 'excited', 'to', 'get', 'started', 'i', 'think', 'this', 'is', 'the', 'best', 'way', 'to', 'get', 'started']), ('joaquin niemann', ['yeah', 'i', 'believe', 'so', 'i', 'think', 'i', 'have', 'a', 'different', 'mindset', 'for', 'this', 'year', 'it', 'kind', 'of', 'hurt', 'me', 'a', 'little', 'bit', 'not', 'being', 'in', 'the', 'majors', 'and', 'i', 'think', 'also', 'helped', 'me', 'to', 'get', 'motivation', 'to', 'kind', 'of', 'earn', 'my', 'spot', 'back', 'into', 'the', 'majors', 'into', 'the', 'elite', 'players', 'i', 'think', 'it', 'helped', 'me', 'a', 'little', 'bit', 'to', 'get', 'focused', 'back', 'to', 'start', 'working', 'harder', 'to', 'start', 'working', 'with', 'a', 'purpose', 'i', 'think', \"it's\", 'paying', 'off', 'and', 'i', 'just', 'want', 'to', 'keep', 'telling', 'myself', 'that', \"i'm\", 'capable', 'of', 'doing', 'this', 'of', 'winning', 'tournaments', 'and', 'this', 'is', 'a', 'good', 'way', 'to', 'prove', 'that', 'and', 'i', \"don't\", 'want', 'to', 'stop', 'working', 'the', 'way', \"i'm\", 'doing', 'it', 'i', 'just', 'want', 'to', 'keep', 'going']), ('joaquin niemann', ['no', 'once', 'i', 'got', 'to', 'the', 'golf', 'course', 'i', 'was', 'fine', 'i', 'think', 'i', 'took', 'it', 'off', 'an', 'hour', 'after', 'i', 'got', 'the', 'news', 'like', 'i', 'said', 'i', 'told', 'to', 'myself', 'that', 'i', \"don't\", 'want', 'to', 'let', 'this', 'situation', 'beat', 'me', 'and', 'i', 'tried', 'to', 'turn', 'it', 'around', 'the', 'only', 'thing', 'i', 'needed', 'to', 'do', 'is', 'just', 'play', 'golf', 'i', 'still', 'had', 'a', 'good', 'chance', 'to', 'win', 'the', 'tournament', 'i', 'was', 'still', 'two', 'shots', 'in', 'front', 'of', 'the', 'one', 'who', 'is', 'behind', 'so', 'i', 'still', 'had', 'a', 'bigger', 'chance', 'than', 'anybody', 'of', 'winning', 'this', 'tournament', 'i', 'just', 'needed', 'to', 'go', 'out', 'there', 'and', 'play', 'some', 'good', 'golf', 'yeah', 'the', 'first', 'tee', 'has', 'always', 'been', 'tricky', 'i', \"didn't\", 'hit', 'my', 'best', 'tee', 'shot', 'but', 'it', 'was', 'close', 'then', 'no', 'was', 'the', 'first', 'hosel', 'off', 'the', 'tee', 'it', 'was', 'just', 'the', 'beginning', 'and', 'i', 'knew', 'that', 'i', 'still', 'had', 'a', 'big', 'chance', 'to', 'win', 'so', 'i', \"didn't\", 'let', 'myself', 'down']), ('joaquin niemann', ['yeah', 'i', 'wanted', 'to', 'make', 'that', 'last', 'putt', 'on', 'the', 'th', 'hole', 'so', 'bad', 'that', 'i', 'probably', 'started', 'it', 'a', 'little', 'bit', 'too', 'far', 'left', 'than', 'i', 'was', 'supposed', 'to', 'the', 'last', 'putt', 'which', 'it', 'was', 'super', 'dark', 'i', 'think', 'it', 'probably', 'helped', 'me', 'just', 'not', 'being', 'so', 'picky', 'on', 'picking', 'my', 'spot', 'and', 'just', 'looking', 'at', 'the', 'hole', 'getting', 'a', 'feeling', 'and', 'just', 'get', 'it', 'there', 'it', 'was', 'the', 'best', 'way', 'to', 'end', 'it', 'up', 'i', 'wanted', 'to', 'make', 'a', 'putt', 'on', 'the', 'last', 'one', 'to', 'win']), ('joaquin niemann', ['the', 'four', 'of', 'us', 'no', 'we', \"didn't\", \"we'll\", 'do', 'it', 'now', \"who's\", 'next']), ('joaquin niemann', ['i', 'played', 'i', 'think', 'two', 'eyes', \"i'm\", 'not', 'percent', 'sure', 'what', 'was', 'the', 'first', 'place', 'i', 'went', 'i', 'was', 'probably', 'like', 'and', 'then', 'when', 'i', 'was', 'probably', 'i', 'went', 'to', 'the', 'pa', 'latin', 'america', 'in', 'the', 'olympic', 'golf', 'course', 'campo', 'olimpico', 'and', 'it', 'was', 'great', 'i', 'had', 'a', 'great', 'time', \"it's\", 'a', 'great', 'location', 'also', 'yeah', 'had', 'a', 'good', 'time', 'i', 'wish', 'i', 'could', 'go', 'more', 'to', 'brazil', 'i', \"didn't\", 'get', 'to', 'know', 'the', 'country', 'as', 'well', 'but', 'i', 'enjoyed', 'my', 'stay', 'there', 'for', 'a', 'week', 'and', 'it', 'was', 'a', 'lot', 'of', 'fun'])]\n",
      "Press conference from: LIV GOLF MAYAKOBA\n"
     ]
    },
    {
     "ename": "KeyboardInterrupt",
     "evalue": "",
     "output_type": "error",
     "traceback": [
      "\u001b[0;31m---------------------------------------------------------------------------\u001b[0m",
      "\u001b[0;31mKeyboardInterrupt\u001b[0m                         Traceback (most recent call last)",
      "Cell \u001b[0;32mIn[50], line 12\u001b[0m\n\u001b[1;32m      9\u001b[0m event \u001b[38;5;241m=\u001b[39m soup\u001b[38;5;241m.\u001b[39mfind(\u001b[38;5;124m'\u001b[39m\u001b[38;5;124mh1\u001b[39m\u001b[38;5;124m'\u001b[39m)\u001b[38;5;241m.\u001b[39mtext\n\u001b[1;32m     10\u001b[0m events\u001b[38;5;241m.\u001b[39mappend(event)\n\u001b[0;32m---> 12\u001b[0m dates_loop, answers_loop \u001b[38;5;241m=\u001b[39m \u001b[43msm\u001b[49m\u001b[38;5;241;43m.\u001b[39;49m\u001b[43mparse_interview\u001b[49m\u001b[43m(\u001b[49m\u001b[43mlink\u001b[49m\u001b[43m)\u001b[49m\n\u001b[1;32m     14\u001b[0m bold_text \u001b[38;5;241m=\u001b[39m soup\u001b[38;5;241m.\u001b[39mfind_all(\u001b[38;5;124m'\u001b[39m\u001b[38;5;124mb\u001b[39m\u001b[38;5;124m'\u001b[39m)\n\u001b[1;32m     15\u001b[0m questions \u001b[38;5;241m=\u001b[39m sm\u001b[38;5;241m.\u001b[39mget_questions(bold_text) \n",
      "File \u001b[0;32m~/Documents/BSE/T2/NLP/Intro/FinalProj/pga_liv/scraping_model.py:80\u001b[0m, in \u001b[0;36mparse_interview\u001b[0;34m(url)\u001b[0m\n\u001b[1;32m     75\u001b[0m \u001b[38;5;28;01mdef\u001b[39;00m \u001b[38;5;21mparse_interview\u001b[39m(url):\n\u001b[1;32m     76\u001b[0m \u001b[38;5;250m\t\u001b[39m\u001b[38;5;124;03m'''\u001b[39;00m\n\u001b[1;32m     77\u001b[0m \u001b[38;5;124;03m\tParameters:\turl of interview\u001b[39;00m\n\u001b[1;32m     78\u001b[0m \u001b[38;5;124;03m\tReturns:\tdata, list of (person's name, person's answer) tuples\u001b[39;00m\n\u001b[1;32m     79\u001b[0m \u001b[38;5;124;03m\t'''\u001b[39;00m\n\u001b[0;32m---> 80\u001b[0m \tpage \u001b[38;5;241m=\u001b[39m \u001b[43mrequests\u001b[49m\u001b[38;5;241;43m.\u001b[39;49m\u001b[43mget\u001b[49m\u001b[43m(\u001b[49m\u001b[43murl\u001b[49m\u001b[43m)\u001b[49m\n\u001b[1;32m     81\u001b[0m \tsoup \u001b[38;5;241m=\u001b[39m BeautifulSoup(page\u001b[38;5;241m.\u001b[39mtext, \u001b[38;5;124m'\u001b[39m\u001b[38;5;124mhtml.parser\u001b[39m\u001b[38;5;124m'\u001b[39m)\n\u001b[1;32m     82\u001b[0m \tmain_text \u001b[38;5;241m=\u001b[39m soup\u001b[38;5;241m.\u001b[39mfind(attrs\u001b[38;5;241m=\u001b[39m{\u001b[38;5;124m'\u001b[39m\u001b[38;5;124mstyle\u001b[39m\u001b[38;5;124m'\u001b[39m:\u001b[38;5;124m'\u001b[39m\u001b[38;5;124mpadding: 10px;\u001b[39m\u001b[38;5;124m'\u001b[39m, \u001b[38;5;124m'\u001b[39m\u001b[38;5;124mvalign\u001b[39m\u001b[38;5;124m'\u001b[39m:\u001b[38;5;124m'\u001b[39m\u001b[38;5;124mtop\u001b[39m\u001b[38;5;124m'\u001b[39m})\n",
      "File \u001b[0;32m~/miniconda3/envs/IntroTxtEnv/lib/python3.12/site-packages/requests/api.py:73\u001b[0m, in \u001b[0;36mget\u001b[0;34m(url, params, **kwargs)\u001b[0m\n\u001b[1;32m     62\u001b[0m \u001b[38;5;28;01mdef\u001b[39;00m \u001b[38;5;21mget\u001b[39m(url, params\u001b[38;5;241m=\u001b[39m\u001b[38;5;28;01mNone\u001b[39;00m, \u001b[38;5;241m*\u001b[39m\u001b[38;5;241m*\u001b[39mkwargs):\n\u001b[1;32m     63\u001b[0m \u001b[38;5;250m    \u001b[39m\u001b[38;5;124mr\u001b[39m\u001b[38;5;124;03m\"\"\"Sends a GET request.\u001b[39;00m\n\u001b[1;32m     64\u001b[0m \n\u001b[1;32m     65\u001b[0m \u001b[38;5;124;03m    :param url: URL for the new :class:`Request` object.\u001b[39;00m\n\u001b[0;32m   (...)\u001b[0m\n\u001b[1;32m     70\u001b[0m \u001b[38;5;124;03m    :rtype: requests.Response\u001b[39;00m\n\u001b[1;32m     71\u001b[0m \u001b[38;5;124;03m    \"\"\"\u001b[39;00m\n\u001b[0;32m---> 73\u001b[0m     \u001b[38;5;28;01mreturn\u001b[39;00m \u001b[43mrequest\u001b[49m\u001b[43m(\u001b[49m\u001b[38;5;124;43m\"\u001b[39;49m\u001b[38;5;124;43mget\u001b[39;49m\u001b[38;5;124;43m\"\u001b[39;49m\u001b[43m,\u001b[49m\u001b[43m \u001b[49m\u001b[43murl\u001b[49m\u001b[43m,\u001b[49m\u001b[43m \u001b[49m\u001b[43mparams\u001b[49m\u001b[38;5;241;43m=\u001b[39;49m\u001b[43mparams\u001b[49m\u001b[43m,\u001b[49m\u001b[43m \u001b[49m\u001b[38;5;241;43m*\u001b[39;49m\u001b[38;5;241;43m*\u001b[39;49m\u001b[43mkwargs\u001b[49m\u001b[43m)\u001b[49m\n",
      "File \u001b[0;32m~/miniconda3/envs/IntroTxtEnv/lib/python3.12/site-packages/requests/api.py:59\u001b[0m, in \u001b[0;36mrequest\u001b[0;34m(method, url, **kwargs)\u001b[0m\n\u001b[1;32m     55\u001b[0m \u001b[38;5;66;03m# By using the 'with' statement we are sure the session is closed, thus we\u001b[39;00m\n\u001b[1;32m     56\u001b[0m \u001b[38;5;66;03m# avoid leaving sockets open which can trigger a ResourceWarning in some\u001b[39;00m\n\u001b[1;32m     57\u001b[0m \u001b[38;5;66;03m# cases, and look like a memory leak in others.\u001b[39;00m\n\u001b[1;32m     58\u001b[0m \u001b[38;5;28;01mwith\u001b[39;00m sessions\u001b[38;5;241m.\u001b[39mSession() \u001b[38;5;28;01mas\u001b[39;00m session:\n\u001b[0;32m---> 59\u001b[0m     \u001b[38;5;28;01mreturn\u001b[39;00m \u001b[43msession\u001b[49m\u001b[38;5;241;43m.\u001b[39;49m\u001b[43mrequest\u001b[49m\u001b[43m(\u001b[49m\u001b[43mmethod\u001b[49m\u001b[38;5;241;43m=\u001b[39;49m\u001b[43mmethod\u001b[49m\u001b[43m,\u001b[49m\u001b[43m \u001b[49m\u001b[43murl\u001b[49m\u001b[38;5;241;43m=\u001b[39;49m\u001b[43murl\u001b[49m\u001b[43m,\u001b[49m\u001b[43m \u001b[49m\u001b[38;5;241;43m*\u001b[39;49m\u001b[38;5;241;43m*\u001b[39;49m\u001b[43mkwargs\u001b[49m\u001b[43m)\u001b[49m\n",
      "File \u001b[0;32m~/miniconda3/envs/IntroTxtEnv/lib/python3.12/site-packages/requests/sessions.py:589\u001b[0m, in \u001b[0;36mSession.request\u001b[0;34m(self, method, url, params, data, headers, cookies, files, auth, timeout, allow_redirects, proxies, hooks, stream, verify, cert, json)\u001b[0m\n\u001b[1;32m    584\u001b[0m send_kwargs \u001b[38;5;241m=\u001b[39m {\n\u001b[1;32m    585\u001b[0m     \u001b[38;5;124m\"\u001b[39m\u001b[38;5;124mtimeout\u001b[39m\u001b[38;5;124m\"\u001b[39m: timeout,\n\u001b[1;32m    586\u001b[0m     \u001b[38;5;124m\"\u001b[39m\u001b[38;5;124mallow_redirects\u001b[39m\u001b[38;5;124m\"\u001b[39m: allow_redirects,\n\u001b[1;32m    587\u001b[0m }\n\u001b[1;32m    588\u001b[0m send_kwargs\u001b[38;5;241m.\u001b[39mupdate(settings)\n\u001b[0;32m--> 589\u001b[0m resp \u001b[38;5;241m=\u001b[39m \u001b[38;5;28;43mself\u001b[39;49m\u001b[38;5;241;43m.\u001b[39;49m\u001b[43msend\u001b[49m\u001b[43m(\u001b[49m\u001b[43mprep\u001b[49m\u001b[43m,\u001b[49m\u001b[43m \u001b[49m\u001b[38;5;241;43m*\u001b[39;49m\u001b[38;5;241;43m*\u001b[39;49m\u001b[43msend_kwargs\u001b[49m\u001b[43m)\u001b[49m\n\u001b[1;32m    591\u001b[0m \u001b[38;5;28;01mreturn\u001b[39;00m resp\n",
      "File \u001b[0;32m~/miniconda3/envs/IntroTxtEnv/lib/python3.12/site-packages/requests/sessions.py:703\u001b[0m, in \u001b[0;36mSession.send\u001b[0;34m(self, request, **kwargs)\u001b[0m\n\u001b[1;32m    700\u001b[0m start \u001b[38;5;241m=\u001b[39m preferred_clock()\n\u001b[1;32m    702\u001b[0m \u001b[38;5;66;03m# Send the request\u001b[39;00m\n\u001b[0;32m--> 703\u001b[0m r \u001b[38;5;241m=\u001b[39m \u001b[43madapter\u001b[49m\u001b[38;5;241;43m.\u001b[39;49m\u001b[43msend\u001b[49m\u001b[43m(\u001b[49m\u001b[43mrequest\u001b[49m\u001b[43m,\u001b[49m\u001b[43m \u001b[49m\u001b[38;5;241;43m*\u001b[39;49m\u001b[38;5;241;43m*\u001b[39;49m\u001b[43mkwargs\u001b[49m\u001b[43m)\u001b[49m\n\u001b[1;32m    705\u001b[0m \u001b[38;5;66;03m# Total elapsed time of the request (approximately)\u001b[39;00m\n\u001b[1;32m    706\u001b[0m elapsed \u001b[38;5;241m=\u001b[39m preferred_clock() \u001b[38;5;241m-\u001b[39m start\n",
      "File \u001b[0;32m~/miniconda3/envs/IntroTxtEnv/lib/python3.12/site-packages/requests/adapters.py:486\u001b[0m, in \u001b[0;36mHTTPAdapter.send\u001b[0;34m(self, request, stream, timeout, verify, cert, proxies)\u001b[0m\n\u001b[1;32m    483\u001b[0m     timeout \u001b[38;5;241m=\u001b[39m TimeoutSauce(connect\u001b[38;5;241m=\u001b[39mtimeout, read\u001b[38;5;241m=\u001b[39mtimeout)\n\u001b[1;32m    485\u001b[0m \u001b[38;5;28;01mtry\u001b[39;00m:\n\u001b[0;32m--> 486\u001b[0m     resp \u001b[38;5;241m=\u001b[39m \u001b[43mconn\u001b[49m\u001b[38;5;241;43m.\u001b[39;49m\u001b[43murlopen\u001b[49m\u001b[43m(\u001b[49m\n\u001b[1;32m    487\u001b[0m \u001b[43m        \u001b[49m\u001b[43mmethod\u001b[49m\u001b[38;5;241;43m=\u001b[39;49m\u001b[43mrequest\u001b[49m\u001b[38;5;241;43m.\u001b[39;49m\u001b[43mmethod\u001b[49m\u001b[43m,\u001b[49m\n\u001b[1;32m    488\u001b[0m \u001b[43m        \u001b[49m\u001b[43murl\u001b[49m\u001b[38;5;241;43m=\u001b[39;49m\u001b[43murl\u001b[49m\u001b[43m,\u001b[49m\n\u001b[1;32m    489\u001b[0m \u001b[43m        \u001b[49m\u001b[43mbody\u001b[49m\u001b[38;5;241;43m=\u001b[39;49m\u001b[43mrequest\u001b[49m\u001b[38;5;241;43m.\u001b[39;49m\u001b[43mbody\u001b[49m\u001b[43m,\u001b[49m\n\u001b[1;32m    490\u001b[0m \u001b[43m        \u001b[49m\u001b[43mheaders\u001b[49m\u001b[38;5;241;43m=\u001b[39;49m\u001b[43mrequest\u001b[49m\u001b[38;5;241;43m.\u001b[39;49m\u001b[43mheaders\u001b[49m\u001b[43m,\u001b[49m\n\u001b[1;32m    491\u001b[0m \u001b[43m        \u001b[49m\u001b[43mredirect\u001b[49m\u001b[38;5;241;43m=\u001b[39;49m\u001b[38;5;28;43;01mFalse\u001b[39;49;00m\u001b[43m,\u001b[49m\n\u001b[1;32m    492\u001b[0m \u001b[43m        \u001b[49m\u001b[43massert_same_host\u001b[49m\u001b[38;5;241;43m=\u001b[39;49m\u001b[38;5;28;43;01mFalse\u001b[39;49;00m\u001b[43m,\u001b[49m\n\u001b[1;32m    493\u001b[0m \u001b[43m        \u001b[49m\u001b[43mpreload_content\u001b[49m\u001b[38;5;241;43m=\u001b[39;49m\u001b[38;5;28;43;01mFalse\u001b[39;49;00m\u001b[43m,\u001b[49m\n\u001b[1;32m    494\u001b[0m \u001b[43m        \u001b[49m\u001b[43mdecode_content\u001b[49m\u001b[38;5;241;43m=\u001b[39;49m\u001b[38;5;28;43;01mFalse\u001b[39;49;00m\u001b[43m,\u001b[49m\n\u001b[1;32m    495\u001b[0m \u001b[43m        \u001b[49m\u001b[43mretries\u001b[49m\u001b[38;5;241;43m=\u001b[39;49m\u001b[38;5;28;43mself\u001b[39;49m\u001b[38;5;241;43m.\u001b[39;49m\u001b[43mmax_retries\u001b[49m\u001b[43m,\u001b[49m\n\u001b[1;32m    496\u001b[0m \u001b[43m        \u001b[49m\u001b[43mtimeout\u001b[49m\u001b[38;5;241;43m=\u001b[39;49m\u001b[43mtimeout\u001b[49m\u001b[43m,\u001b[49m\n\u001b[1;32m    497\u001b[0m \u001b[43m        \u001b[49m\u001b[43mchunked\u001b[49m\u001b[38;5;241;43m=\u001b[39;49m\u001b[43mchunked\u001b[49m\u001b[43m,\u001b[49m\n\u001b[1;32m    498\u001b[0m \u001b[43m    \u001b[49m\u001b[43m)\u001b[49m\n\u001b[1;32m    500\u001b[0m \u001b[38;5;28;01mexcept\u001b[39;00m (ProtocolError, \u001b[38;5;167;01mOSError\u001b[39;00m) \u001b[38;5;28;01mas\u001b[39;00m err:\n\u001b[1;32m    501\u001b[0m     \u001b[38;5;28;01mraise\u001b[39;00m \u001b[38;5;167;01mConnectionError\u001b[39;00m(err, request\u001b[38;5;241m=\u001b[39mrequest)\n",
      "File \u001b[0;32m~/miniconda3/envs/IntroTxtEnv/lib/python3.12/site-packages/urllib3/connectionpool.py:790\u001b[0m, in \u001b[0;36mHTTPConnectionPool.urlopen\u001b[0;34m(self, method, url, body, headers, retries, redirect, assert_same_host, timeout, pool_timeout, release_conn, chunked, body_pos, preload_content, decode_content, **response_kw)\u001b[0m\n\u001b[1;32m    787\u001b[0m response_conn \u001b[38;5;241m=\u001b[39m conn \u001b[38;5;28;01mif\u001b[39;00m \u001b[38;5;129;01mnot\u001b[39;00m release_conn \u001b[38;5;28;01melse\u001b[39;00m \u001b[38;5;28;01mNone\u001b[39;00m\n\u001b[1;32m    789\u001b[0m \u001b[38;5;66;03m# Make the request on the HTTPConnection object\u001b[39;00m\n\u001b[0;32m--> 790\u001b[0m response \u001b[38;5;241m=\u001b[39m \u001b[38;5;28;43mself\u001b[39;49m\u001b[38;5;241;43m.\u001b[39;49m\u001b[43m_make_request\u001b[49m\u001b[43m(\u001b[49m\n\u001b[1;32m    791\u001b[0m \u001b[43m    \u001b[49m\u001b[43mconn\u001b[49m\u001b[43m,\u001b[49m\n\u001b[1;32m    792\u001b[0m \u001b[43m    \u001b[49m\u001b[43mmethod\u001b[49m\u001b[43m,\u001b[49m\n\u001b[1;32m    793\u001b[0m \u001b[43m    \u001b[49m\u001b[43murl\u001b[49m\u001b[43m,\u001b[49m\n\u001b[1;32m    794\u001b[0m \u001b[43m    \u001b[49m\u001b[43mtimeout\u001b[49m\u001b[38;5;241;43m=\u001b[39;49m\u001b[43mtimeout_obj\u001b[49m\u001b[43m,\u001b[49m\n\u001b[1;32m    795\u001b[0m \u001b[43m    \u001b[49m\u001b[43mbody\u001b[49m\u001b[38;5;241;43m=\u001b[39;49m\u001b[43mbody\u001b[49m\u001b[43m,\u001b[49m\n\u001b[1;32m    796\u001b[0m \u001b[43m    \u001b[49m\u001b[43mheaders\u001b[49m\u001b[38;5;241;43m=\u001b[39;49m\u001b[43mheaders\u001b[49m\u001b[43m,\u001b[49m\n\u001b[1;32m    797\u001b[0m \u001b[43m    \u001b[49m\u001b[43mchunked\u001b[49m\u001b[38;5;241;43m=\u001b[39;49m\u001b[43mchunked\u001b[49m\u001b[43m,\u001b[49m\n\u001b[1;32m    798\u001b[0m \u001b[43m    \u001b[49m\u001b[43mretries\u001b[49m\u001b[38;5;241;43m=\u001b[39;49m\u001b[43mretries\u001b[49m\u001b[43m,\u001b[49m\n\u001b[1;32m    799\u001b[0m \u001b[43m    \u001b[49m\u001b[43mresponse_conn\u001b[49m\u001b[38;5;241;43m=\u001b[39;49m\u001b[43mresponse_conn\u001b[49m\u001b[43m,\u001b[49m\n\u001b[1;32m    800\u001b[0m \u001b[43m    \u001b[49m\u001b[43mpreload_content\u001b[49m\u001b[38;5;241;43m=\u001b[39;49m\u001b[43mpreload_content\u001b[49m\u001b[43m,\u001b[49m\n\u001b[1;32m    801\u001b[0m \u001b[43m    \u001b[49m\u001b[43mdecode_content\u001b[49m\u001b[38;5;241;43m=\u001b[39;49m\u001b[43mdecode_content\u001b[49m\u001b[43m,\u001b[49m\n\u001b[1;32m    802\u001b[0m \u001b[43m    \u001b[49m\u001b[38;5;241;43m*\u001b[39;49m\u001b[38;5;241;43m*\u001b[39;49m\u001b[43mresponse_kw\u001b[49m\u001b[43m,\u001b[49m\n\u001b[1;32m    803\u001b[0m \u001b[43m\u001b[49m\u001b[43m)\u001b[49m\n\u001b[1;32m    805\u001b[0m \u001b[38;5;66;03m# Everything went great!\u001b[39;00m\n\u001b[1;32m    806\u001b[0m clean_exit \u001b[38;5;241m=\u001b[39m \u001b[38;5;28;01mTrue\u001b[39;00m\n",
      "File \u001b[0;32m~/miniconda3/envs/IntroTxtEnv/lib/python3.12/site-packages/urllib3/connectionpool.py:496\u001b[0m, in \u001b[0;36mHTTPConnectionPool._make_request\u001b[0;34m(self, conn, method, url, body, headers, retries, timeout, chunked, response_conn, preload_content, decode_content, enforce_content_length)\u001b[0m\n\u001b[1;32m    493\u001b[0m \u001b[38;5;66;03m# conn.request() calls http.client.*.request, not the method in\u001b[39;00m\n\u001b[1;32m    494\u001b[0m \u001b[38;5;66;03m# urllib3.request. It also calls makefile (recv) on the socket.\u001b[39;00m\n\u001b[1;32m    495\u001b[0m \u001b[38;5;28;01mtry\u001b[39;00m:\n\u001b[0;32m--> 496\u001b[0m     \u001b[43mconn\u001b[49m\u001b[38;5;241;43m.\u001b[39;49m\u001b[43mrequest\u001b[49m\u001b[43m(\u001b[49m\n\u001b[1;32m    497\u001b[0m \u001b[43m        \u001b[49m\u001b[43mmethod\u001b[49m\u001b[43m,\u001b[49m\n\u001b[1;32m    498\u001b[0m \u001b[43m        \u001b[49m\u001b[43murl\u001b[49m\u001b[43m,\u001b[49m\n\u001b[1;32m    499\u001b[0m \u001b[43m        \u001b[49m\u001b[43mbody\u001b[49m\u001b[38;5;241;43m=\u001b[39;49m\u001b[43mbody\u001b[49m\u001b[43m,\u001b[49m\n\u001b[1;32m    500\u001b[0m \u001b[43m        \u001b[49m\u001b[43mheaders\u001b[49m\u001b[38;5;241;43m=\u001b[39;49m\u001b[43mheaders\u001b[49m\u001b[43m,\u001b[49m\n\u001b[1;32m    501\u001b[0m \u001b[43m        \u001b[49m\u001b[43mchunked\u001b[49m\u001b[38;5;241;43m=\u001b[39;49m\u001b[43mchunked\u001b[49m\u001b[43m,\u001b[49m\n\u001b[1;32m    502\u001b[0m \u001b[43m        \u001b[49m\u001b[43mpreload_content\u001b[49m\u001b[38;5;241;43m=\u001b[39;49m\u001b[43mpreload_content\u001b[49m\u001b[43m,\u001b[49m\n\u001b[1;32m    503\u001b[0m \u001b[43m        \u001b[49m\u001b[43mdecode_content\u001b[49m\u001b[38;5;241;43m=\u001b[39;49m\u001b[43mdecode_content\u001b[49m\u001b[43m,\u001b[49m\n\u001b[1;32m    504\u001b[0m \u001b[43m        \u001b[49m\u001b[43menforce_content_length\u001b[49m\u001b[38;5;241;43m=\u001b[39;49m\u001b[43menforce_content_length\u001b[49m\u001b[43m,\u001b[49m\n\u001b[1;32m    505\u001b[0m \u001b[43m    \u001b[49m\u001b[43m)\u001b[49m\n\u001b[1;32m    507\u001b[0m \u001b[38;5;66;03m# We are swallowing BrokenPipeError (errno.EPIPE) since the server is\u001b[39;00m\n\u001b[1;32m    508\u001b[0m \u001b[38;5;66;03m# legitimately able to close the connection after sending a valid response.\u001b[39;00m\n\u001b[1;32m    509\u001b[0m \u001b[38;5;66;03m# With this behaviour, the received response is still readable.\u001b[39;00m\n\u001b[1;32m    510\u001b[0m \u001b[38;5;28;01mexcept\u001b[39;00m \u001b[38;5;167;01mBrokenPipeError\u001b[39;00m:\n",
      "File \u001b[0;32m~/miniconda3/envs/IntroTxtEnv/lib/python3.12/site-packages/urllib3/connection.py:395\u001b[0m, in \u001b[0;36mHTTPConnection.request\u001b[0;34m(self, method, url, body, headers, chunked, preload_content, decode_content, enforce_content_length)\u001b[0m\n\u001b[1;32m    393\u001b[0m \u001b[38;5;28;01mfor\u001b[39;00m header, value \u001b[38;5;129;01min\u001b[39;00m headers\u001b[38;5;241m.\u001b[39mitems():\n\u001b[1;32m    394\u001b[0m     \u001b[38;5;28mself\u001b[39m\u001b[38;5;241m.\u001b[39mputheader(header, value)\n\u001b[0;32m--> 395\u001b[0m \u001b[38;5;28;43mself\u001b[39;49m\u001b[38;5;241;43m.\u001b[39;49m\u001b[43mendheaders\u001b[49m\u001b[43m(\u001b[49m\u001b[43m)\u001b[49m\n\u001b[1;32m    397\u001b[0m \u001b[38;5;66;03m# If we're given a body we start sending that in chunks.\u001b[39;00m\n\u001b[1;32m    398\u001b[0m \u001b[38;5;28;01mif\u001b[39;00m chunks \u001b[38;5;129;01mis\u001b[39;00m \u001b[38;5;129;01mnot\u001b[39;00m \u001b[38;5;28;01mNone\u001b[39;00m:\n",
      "File \u001b[0;32m~/miniconda3/envs/IntroTxtEnv/lib/python3.12/http/client.py:1322\u001b[0m, in \u001b[0;36mHTTPConnection.endheaders\u001b[0;34m(self, message_body, encode_chunked)\u001b[0m\n\u001b[1;32m   1320\u001b[0m \u001b[38;5;28;01melse\u001b[39;00m:\n\u001b[1;32m   1321\u001b[0m     \u001b[38;5;28;01mraise\u001b[39;00m CannotSendHeader()\n\u001b[0;32m-> 1322\u001b[0m \u001b[38;5;28;43mself\u001b[39;49m\u001b[38;5;241;43m.\u001b[39;49m\u001b[43m_send_output\u001b[49m\u001b[43m(\u001b[49m\u001b[43mmessage_body\u001b[49m\u001b[43m,\u001b[49m\u001b[43m \u001b[49m\u001b[43mencode_chunked\u001b[49m\u001b[38;5;241;43m=\u001b[39;49m\u001b[43mencode_chunked\u001b[49m\u001b[43m)\u001b[49m\n",
      "File \u001b[0;32m~/miniconda3/envs/IntroTxtEnv/lib/python3.12/http/client.py:1081\u001b[0m, in \u001b[0;36mHTTPConnection._send_output\u001b[0;34m(self, message_body, encode_chunked)\u001b[0m\n\u001b[1;32m   1079\u001b[0m msg \u001b[38;5;241m=\u001b[39m \u001b[38;5;124mb\u001b[39m\u001b[38;5;124m\"\u001b[39m\u001b[38;5;130;01m\\r\u001b[39;00m\u001b[38;5;130;01m\\n\u001b[39;00m\u001b[38;5;124m\"\u001b[39m\u001b[38;5;241m.\u001b[39mjoin(\u001b[38;5;28mself\u001b[39m\u001b[38;5;241m.\u001b[39m_buffer)\n\u001b[1;32m   1080\u001b[0m \u001b[38;5;28;01mdel\u001b[39;00m \u001b[38;5;28mself\u001b[39m\u001b[38;5;241m.\u001b[39m_buffer[:]\n\u001b[0;32m-> 1081\u001b[0m \u001b[38;5;28;43mself\u001b[39;49m\u001b[38;5;241;43m.\u001b[39;49m\u001b[43msend\u001b[49m\u001b[43m(\u001b[49m\u001b[43mmsg\u001b[49m\u001b[43m)\u001b[49m\n\u001b[1;32m   1083\u001b[0m \u001b[38;5;28;01mif\u001b[39;00m message_body \u001b[38;5;129;01mis\u001b[39;00m \u001b[38;5;129;01mnot\u001b[39;00m \u001b[38;5;28;01mNone\u001b[39;00m:\n\u001b[1;32m   1084\u001b[0m \n\u001b[1;32m   1085\u001b[0m     \u001b[38;5;66;03m# create a consistent interface to message_body\u001b[39;00m\n\u001b[1;32m   1086\u001b[0m     \u001b[38;5;28;01mif\u001b[39;00m \u001b[38;5;28mhasattr\u001b[39m(message_body, \u001b[38;5;124m'\u001b[39m\u001b[38;5;124mread\u001b[39m\u001b[38;5;124m'\u001b[39m):\n\u001b[1;32m   1087\u001b[0m         \u001b[38;5;66;03m# Let file-like take precedence over byte-like.  This\u001b[39;00m\n\u001b[1;32m   1088\u001b[0m         \u001b[38;5;66;03m# is needed to allow the current position of mmap'ed\u001b[39;00m\n\u001b[1;32m   1089\u001b[0m         \u001b[38;5;66;03m# files to be taken into account.\u001b[39;00m\n",
      "File \u001b[0;32m~/miniconda3/envs/IntroTxtEnv/lib/python3.12/http/client.py:1025\u001b[0m, in \u001b[0;36mHTTPConnection.send\u001b[0;34m(self, data)\u001b[0m\n\u001b[1;32m   1023\u001b[0m \u001b[38;5;28;01mif\u001b[39;00m \u001b[38;5;28mself\u001b[39m\u001b[38;5;241m.\u001b[39msock \u001b[38;5;129;01mis\u001b[39;00m \u001b[38;5;28;01mNone\u001b[39;00m:\n\u001b[1;32m   1024\u001b[0m     \u001b[38;5;28;01mif\u001b[39;00m \u001b[38;5;28mself\u001b[39m\u001b[38;5;241m.\u001b[39mauto_open:\n\u001b[0;32m-> 1025\u001b[0m         \u001b[38;5;28;43mself\u001b[39;49m\u001b[38;5;241;43m.\u001b[39;49m\u001b[43mconnect\u001b[49m\u001b[43m(\u001b[49m\u001b[43m)\u001b[49m\n\u001b[1;32m   1026\u001b[0m     \u001b[38;5;28;01melse\u001b[39;00m:\n\u001b[1;32m   1027\u001b[0m         \u001b[38;5;28;01mraise\u001b[39;00m NotConnected()\n",
      "File \u001b[0;32m~/miniconda3/envs/IntroTxtEnv/lib/python3.12/site-packages/urllib3/connection.py:243\u001b[0m, in \u001b[0;36mHTTPConnection.connect\u001b[0;34m(self)\u001b[0m\n\u001b[1;32m    242\u001b[0m \u001b[38;5;28;01mdef\u001b[39;00m \u001b[38;5;21mconnect\u001b[39m(\u001b[38;5;28mself\u001b[39m) \u001b[38;5;241m-\u001b[39m\u001b[38;5;241m>\u001b[39m \u001b[38;5;28;01mNone\u001b[39;00m:\n\u001b[0;32m--> 243\u001b[0m     \u001b[38;5;28mself\u001b[39m\u001b[38;5;241m.\u001b[39msock \u001b[38;5;241m=\u001b[39m \u001b[38;5;28;43mself\u001b[39;49m\u001b[38;5;241;43m.\u001b[39;49m\u001b[43m_new_conn\u001b[49m\u001b[43m(\u001b[49m\u001b[43m)\u001b[49m\n\u001b[1;32m    244\u001b[0m     \u001b[38;5;28;01mif\u001b[39;00m \u001b[38;5;28mself\u001b[39m\u001b[38;5;241m.\u001b[39m_tunnel_host:\n\u001b[1;32m    245\u001b[0m         \u001b[38;5;66;03m# If we're tunneling it means we're connected to our proxy.\u001b[39;00m\n\u001b[1;32m    246\u001b[0m         \u001b[38;5;28mself\u001b[39m\u001b[38;5;241m.\u001b[39m_has_connected_to_proxy \u001b[38;5;241m=\u001b[39m \u001b[38;5;28;01mTrue\u001b[39;00m\n",
      "File \u001b[0;32m~/miniconda3/envs/IntroTxtEnv/lib/python3.12/site-packages/urllib3/connection.py:203\u001b[0m, in \u001b[0;36mHTTPConnection._new_conn\u001b[0;34m(self)\u001b[0m\n\u001b[1;32m    198\u001b[0m \u001b[38;5;250m\u001b[39m\u001b[38;5;124;03m\"\"\"Establish a socket connection and set nodelay settings on it.\u001b[39;00m\n\u001b[1;32m    199\u001b[0m \n\u001b[1;32m    200\u001b[0m \u001b[38;5;124;03m:return: New socket connection.\u001b[39;00m\n\u001b[1;32m    201\u001b[0m \u001b[38;5;124;03m\"\"\"\u001b[39;00m\n\u001b[1;32m    202\u001b[0m \u001b[38;5;28;01mtry\u001b[39;00m:\n\u001b[0;32m--> 203\u001b[0m     sock \u001b[38;5;241m=\u001b[39m \u001b[43mconnection\u001b[49m\u001b[38;5;241;43m.\u001b[39;49m\u001b[43mcreate_connection\u001b[49m\u001b[43m(\u001b[49m\n\u001b[1;32m    204\u001b[0m \u001b[43m        \u001b[49m\u001b[43m(\u001b[49m\u001b[38;5;28;43mself\u001b[39;49m\u001b[38;5;241;43m.\u001b[39;49m\u001b[43m_dns_host\u001b[49m\u001b[43m,\u001b[49m\u001b[43m \u001b[49m\u001b[38;5;28;43mself\u001b[39;49m\u001b[38;5;241;43m.\u001b[39;49m\u001b[43mport\u001b[49m\u001b[43m)\u001b[49m\u001b[43m,\u001b[49m\n\u001b[1;32m    205\u001b[0m \u001b[43m        \u001b[49m\u001b[38;5;28;43mself\u001b[39;49m\u001b[38;5;241;43m.\u001b[39;49m\u001b[43mtimeout\u001b[49m\u001b[43m,\u001b[49m\n\u001b[1;32m    206\u001b[0m \u001b[43m        \u001b[49m\u001b[43msource_address\u001b[49m\u001b[38;5;241;43m=\u001b[39;49m\u001b[38;5;28;43mself\u001b[39;49m\u001b[38;5;241;43m.\u001b[39;49m\u001b[43msource_address\u001b[49m\u001b[43m,\u001b[49m\n\u001b[1;32m    207\u001b[0m \u001b[43m        \u001b[49m\u001b[43msocket_options\u001b[49m\u001b[38;5;241;43m=\u001b[39;49m\u001b[38;5;28;43mself\u001b[39;49m\u001b[38;5;241;43m.\u001b[39;49m\u001b[43msocket_options\u001b[49m\u001b[43m,\u001b[49m\n\u001b[1;32m    208\u001b[0m \u001b[43m    \u001b[49m\u001b[43m)\u001b[49m\n\u001b[1;32m    209\u001b[0m \u001b[38;5;28;01mexcept\u001b[39;00m socket\u001b[38;5;241m.\u001b[39mgaierror \u001b[38;5;28;01mas\u001b[39;00m e:\n\u001b[1;32m    210\u001b[0m     \u001b[38;5;28;01mraise\u001b[39;00m NameResolutionError(\u001b[38;5;28mself\u001b[39m\u001b[38;5;241m.\u001b[39mhost, \u001b[38;5;28mself\u001b[39m, e) \u001b[38;5;28;01mfrom\u001b[39;00m \u001b[38;5;21;01me\u001b[39;00m\n",
      "File \u001b[0;32m~/miniconda3/envs/IntroTxtEnv/lib/python3.12/site-packages/urllib3/util/connection.py:73\u001b[0m, in \u001b[0;36mcreate_connection\u001b[0;34m(address, timeout, source_address, socket_options)\u001b[0m\n\u001b[1;32m     71\u001b[0m \u001b[38;5;28;01mif\u001b[39;00m source_address:\n\u001b[1;32m     72\u001b[0m     sock\u001b[38;5;241m.\u001b[39mbind(source_address)\n\u001b[0;32m---> 73\u001b[0m \u001b[43msock\u001b[49m\u001b[38;5;241;43m.\u001b[39;49m\u001b[43mconnect\u001b[49m\u001b[43m(\u001b[49m\u001b[43msa\u001b[49m\u001b[43m)\u001b[49m\n\u001b[1;32m     74\u001b[0m \u001b[38;5;66;03m# Break explicitly a reference cycle\u001b[39;00m\n\u001b[1;32m     75\u001b[0m err \u001b[38;5;241m=\u001b[39m \u001b[38;5;28;01mNone\u001b[39;00m\n",
      "\u001b[0;31mKeyboardInterrupt\u001b[0m: "
     ]
    }
   ],
   "source": [
    "press_conferences = pd.DataFrame(columns=['date','question','answer'])\n",
    "events = []\n",
    "for link in links_niemann:\n",
    "    headers = {'User-Agent': 'Mozilla/5.0 (Macintosh; Intel Mac OS X 10.15; rv:121.0) Gecko/20100101 Firefox/121.0'}\n",
    "    response = requests.get(link, headers=headers)\n",
    "    soup = BeautifulSoup(response.text, 'html.parser')\n",
    "\n",
    "    # Getting Data\n",
    "    event = soup.find('h1').text\n",
    "    events.append(event)\n",
    "\n",
    "    dates_loop, answers_loop = sm.parse_interview(link)\n",
    "\n",
    "    bold_text = soup.find_all('b')\n",
    "    questions = sm.get_questions(bold_text) \n",
    "    stripped_questions = [question.strip('Q.') for question in questions]\n",
    "    stripped_questions = [sm.clean_string(question).split() for question in stripped_questions]\n",
    "\n",
    "    print(answers_loop)\n",
    "\n",
    "    # num_to_fill = len(answers_loop) - len(stripped_questions)\n",
    "    # stripped_questions = [\"MODERATOR\"] * num_to_fill + stripped_questions\n",
    "    # temp_df = pd.DataFrame({'date': dates_loop, 'answer': answers_loop, 'question': stripped_questions})\n",
    "    # press_conferences = pd.concat([press_conferences, temp_df], ignore_index=True)\n",
    "    print('Press conference from:',event)\n",
    "\n",
    "\n",
    "\n",
    "\n"
   ]
  },
  {
   "cell_type": "code",
   "execution_count": 37,
   "metadata": {},
   "outputs": [],
   "source": [
    "press_conferences2 = press_conferences.copy()"
   ]
  },
  {
   "cell_type": "code",
   "execution_count": 39,
   "metadata": {},
   "outputs": [
    {
     "data": {
      "text/html": [
       "<div>\n",
       "<style scoped>\n",
       "    .dataframe tbody tr th:only-of-type {\n",
       "        vertical-align: middle;\n",
       "    }\n",
       "\n",
       "    .dataframe tbody tr th {\n",
       "        vertical-align: top;\n",
       "    }\n",
       "\n",
       "    .dataframe thead th {\n",
       "        text-align: right;\n",
       "    }\n",
       "</style>\n",
       "<table border=\"1\" class=\"dataframe\">\n",
       "  <thead>\n",
       "    <tr style=\"text-align: right;\">\n",
       "      <th></th>\n",
       "      <th>date</th>\n",
       "      <th>question</th>\n",
       "      <th>answer</th>\n",
       "    </tr>\n",
       "  </thead>\n",
       "  <tbody>\n",
       "    <tr>\n",
       "      <th>0</th>\n",
       "      <td>March 3, 2024</td>\n",
       "      <td>MODERATOR</td>\n",
       "      <td>(joaquin niemann, [yeah, it, feels, amazing, i...</td>\n",
       "    </tr>\n",
       "    <tr>\n",
       "      <th>1</th>\n",
       "      <td>March 3, 2024</td>\n",
       "      <td>[you, looked, in, control, out, there, all, da...</td>\n",
       "      <td>(joaquín niemann, [i, wouldn't, say, it, felt,...</td>\n",
       "    </tr>\n",
       "    <tr>\n",
       "      <th>2</th>\n",
       "      <td>March 3, 2024</td>\n",
       "      <td>[the, way, you're, playing, right, now, do, yo...</td>\n",
       "      <td>(joaquin niemann, [i, mean, at, least, that's,...</td>\n",
       "    </tr>\n",
       "    <tr>\n",
       "      <th>3</th>\n",
       "      <td>March 3, 2024</td>\n",
       "      <td>[is, this, as, good, of, a, confidence, level,...</td>\n",
       "      <td>(joaquin niemann, [i, believe, so, yeah, i, fe...</td>\n",
       "    </tr>\n",
       "    <tr>\n",
       "      <th>4</th>\n",
       "      <td>March 3, 2024</td>\n",
       "      <td>[there, was, one, shot, i, think, it, was, the...</td>\n",
       "      <td>(joaquin niemann, [oh, that, was, beautiful, y...</td>\n",
       "    </tr>\n",
       "  </tbody>\n",
       "</table>\n",
       "</div>"
      ],
      "text/plain": [
       "            date                                           question  \\\n",
       "0  March 3, 2024                                          MODERATOR   \n",
       "1  March 3, 2024  [you, looked, in, control, out, there, all, da...   \n",
       "2  March 3, 2024  [the, way, you're, playing, right, now, do, yo...   \n",
       "3  March 3, 2024  [is, this, as, good, of, a, confidence, level,...   \n",
       "4  March 3, 2024  [there, was, one, shot, i, think, it, was, the...   \n",
       "\n",
       "                                              answer  \n",
       "0  (joaquin niemann, [yeah, it, feels, amazing, i...  \n",
       "1  (joaquín niemann, [i, wouldn't, say, it, felt,...  \n",
       "2  (joaquin niemann, [i, mean, at, least, that's,...  \n",
       "3  (joaquin niemann, [i, believe, so, yeah, i, fe...  \n",
       "4  (joaquin niemann, [oh, that, was, beautiful, y...  "
      ]
     },
     "execution_count": 39,
     "metadata": {},
     "output_type": "execute_result"
    }
   ],
   "source": [
    "press_conferences.head()"
   ]
  },
  {
   "cell_type": "code",
   "execution_count": 7,
   "metadata": {},
   "outputs": [],
   "source": [
    "press_conferences2['player'] = [i for i, n in press_conferences2['answer']]\n",
    "press_conferences2['answer'] = [n for i, n in press_conferences2['answer']]\n",
    "\n",
    "# press_conferences2['Ans LIV?'] =press_conferences2['answer'].apply(lambda x: 1 if 'liv' in x else 0)\n",
    "# press_conferences2['Ans PGA?'] =press_conferences2['answer'].apply(lambda x: 1 if 'pga' in x else 0)\n",
    "# press_conferences2['Q LIV?'] =press_conferences2['question'].apply(lambda x: 1 if 'liv' in x else 0)\n",
    "# press_conferences2['Q PGA?'] =press_conferences2['question'].apply(lambda x: 1 if 'pga' in x else 0)"
   ]
  },
  {
   "cell_type": "code",
   "execution_count": 8,
   "metadata": {},
   "outputs": [
    {
     "data": {
      "text/html": [
       "<div>\n",
       "<style scoped>\n",
       "    .dataframe tbody tr th:only-of-type {\n",
       "        vertical-align: middle;\n",
       "    }\n",
       "\n",
       "    .dataframe tbody tr th {\n",
       "        vertical-align: top;\n",
       "    }\n",
       "\n",
       "    .dataframe thead th {\n",
       "        text-align: right;\n",
       "    }\n",
       "</style>\n",
       "<table border=\"1\" class=\"dataframe\">\n",
       "  <thead>\n",
       "    <tr style=\"text-align: right;\">\n",
       "      <th></th>\n",
       "      <th>date</th>\n",
       "      <th>question</th>\n",
       "      <th>answer</th>\n",
       "      <th>player</th>\n",
       "    </tr>\n",
       "  </thead>\n",
       "  <tbody>\n",
       "    <tr>\n",
       "      <th>0</th>\n",
       "      <td>March 3, 2024</td>\n",
       "      <td>MODERATOR</td>\n",
       "      <td>[yeah, it, feels, amazing, it's, a, super, spe...</td>\n",
       "      <td>joaquin niemann</td>\n",
       "    </tr>\n",
       "    <tr>\n",
       "      <th>1</th>\n",
       "      <td>March 3, 2024</td>\n",
       "      <td>[you, looked, in, control, out, there, all, da...</td>\n",
       "      <td>[i, wouldn't, say, it, felt, that, way, at, th...</td>\n",
       "      <td>joaquín niemann</td>\n",
       "    </tr>\n",
       "    <tr>\n",
       "      <th>2</th>\n",
       "      <td>March 3, 2024</td>\n",
       "      <td>[the, way, you're, playing, right, now, do, yo...</td>\n",
       "      <td>[i, mean, at, least, that's, what, i, think, i...</td>\n",
       "      <td>joaquin niemann</td>\n",
       "    </tr>\n",
       "    <tr>\n",
       "      <th>3</th>\n",
       "      <td>March 3, 2024</td>\n",
       "      <td>[is, this, as, good, of, a, confidence, level,...</td>\n",
       "      <td>[i, believe, so, yeah, i, feel, like, it's, pr...</td>\n",
       "      <td>joaquin niemann</td>\n",
       "    </tr>\n",
       "    <tr>\n",
       "      <th>4</th>\n",
       "      <td>March 3, 2024</td>\n",
       "      <td>[there, was, one, shot, i, think, it, was, the...</td>\n",
       "      <td>[oh, that, was, beautiful, yeah, that, hole, i...</td>\n",
       "      <td>joaquin niemann</td>\n",
       "    </tr>\n",
       "    <tr>\n",
       "      <th>...</th>\n",
       "      <td>...</td>\n",
       "      <td>...</td>\n",
       "      <td>...</td>\n",
       "      <td>...</td>\n",
       "    </tr>\n",
       "    <tr>\n",
       "      <th>1060</th>\n",
       "      <td>August 15, 2017</td>\n",
       "      <td>MODERATOR</td>\n",
       "      <td>[i, think, i, feel, better, in, riviera, than,...</td>\n",
       "      <td>joaquin niemann</td>\n",
       "    </tr>\n",
       "    <tr>\n",
       "      <th>1061</th>\n",
       "      <td>August 14, 2017</td>\n",
       "      <td>MODERATOR</td>\n",
       "      <td>[under, yeah]</td>\n",
       "      <td>joaquin niemann</td>\n",
       "    </tr>\n",
       "    <tr>\n",
       "      <th>1062</th>\n",
       "      <td>August 14, 2017</td>\n",
       "      <td>MODERATOR</td>\n",
       "      <td>[yeah, i, played, really, good, golf, the, gol...</td>\n",
       "      <td>joaquin niemann</td>\n",
       "    </tr>\n",
       "    <tr>\n",
       "      <th>1063</th>\n",
       "      <td>August 14, 2017</td>\n",
       "      <td>MODERATOR</td>\n",
       "      <td>[i, like, the, course, i, think, it's, more, l...</td>\n",
       "      <td>joaquin niemann</td>\n",
       "    </tr>\n",
       "    <tr>\n",
       "      <th>1064</th>\n",
       "      <td>August 14, 2017</td>\n",
       "      <td>MODERATOR</td>\n",
       "      <td>[yeah, i, loved, that, it, was, a, really, nic...</td>\n",
       "      <td>joaquin niemann</td>\n",
       "    </tr>\n",
       "  </tbody>\n",
       "</table>\n",
       "<p>1065 rows × 4 columns</p>\n",
       "</div>"
      ],
      "text/plain": [
       "                 date                                           question  \\\n",
       "0       March 3, 2024                                          MODERATOR   \n",
       "1       March 3, 2024  [you, looked, in, control, out, there, all, da...   \n",
       "2       March 3, 2024  [the, way, you're, playing, right, now, do, yo...   \n",
       "3       March 3, 2024  [is, this, as, good, of, a, confidence, level,...   \n",
       "4       March 3, 2024  [there, was, one, shot, i, think, it, was, the...   \n",
       "...               ...                                                ...   \n",
       "1060  August 15, 2017                                          MODERATOR   \n",
       "1061  August 14, 2017                                          MODERATOR   \n",
       "1062  August 14, 2017                                          MODERATOR   \n",
       "1063  August 14, 2017                                          MODERATOR   \n",
       "1064  August 14, 2017                                          MODERATOR   \n",
       "\n",
       "                                                 answer           player  \n",
       "0     [yeah, it, feels, amazing, it's, a, super, spe...  joaquin niemann  \n",
       "1     [i, wouldn't, say, it, felt, that, way, at, th...  joaquín niemann  \n",
       "2     [i, mean, at, least, that's, what, i, think, i...  joaquin niemann  \n",
       "3     [i, believe, so, yeah, i, feel, like, it's, pr...  joaquin niemann  \n",
       "4     [oh, that, was, beautiful, yeah, that, hole, i...  joaquin niemann  \n",
       "...                                                 ...              ...  \n",
       "1060  [i, think, i, feel, better, in, riviera, than,...  joaquin niemann  \n",
       "1061                                      [under, yeah]  joaquin niemann  \n",
       "1062  [yeah, i, played, really, good, golf, the, gol...  joaquin niemann  \n",
       "1063  [i, like, the, course, i, think, it's, more, l...  joaquin niemann  \n",
       "1064  [yeah, i, loved, that, it, was, a, really, nic...  joaquin niemann  \n",
       "\n",
       "[1065 rows x 4 columns]"
      ]
     },
     "execution_count": 8,
     "metadata": {},
     "output_type": "execute_result"
    }
   ],
   "source": [
    "press_conferences2"
   ]
  },
  {
   "cell_type": "markdown",
   "metadata": {},
   "source": [
    "## TENEMOS UN PROBLEMA, HAY CONFERENCIAS QUE TIENEN MAS DE UN JUGADOR RESPONDIENDO. ESTÁN INTERCALADAS LAS PREGUNTAS ENTONCES TENEMOS QUE ASIGNAR EL JUGADOR DEPENDIENDO DE LA RTA Y NO DE LA CONFERENCIA EN GRAL.\n",
    "\n",
    "## HAY QUE PILLAR LAS FECHAS PARA LUEGO FILTRAR A PARTIR DE OCTUBRE DE 2020"
   ]
  },
  {
   "cell_type": "markdown",
   "metadata": {},
   "source": [
    "### Creo que hay que sacar todos los parrafor y luego hacer functiones que diferencien entre negrita y no. Que extraigan el autor si empieza en mayúscula y luego dos puntos... Habrá que checkear también si quien habla aparece dentro de los nombres en la conferencia de prensa, y luego checkear si es uno de nuestros jugadores seleccionados.\n",
    "### También hay que hacer una lista con jugadores por conferencia en vez de un único valor"
   ]
  }
 ],
 "metadata": {
  "kernelspec": {
   "display_name": "IntroTxtEnv",
   "language": "python",
   "name": "python3"
  },
  "language_info": {
   "codemirror_mode": {
    "name": "ipython",
    "version": 3
   },
   "file_extension": ".py",
   "mimetype": "text/x-python",
   "name": "python",
   "nbconvert_exporter": "python",
   "pygments_lexer": "ipython3",
   "version": "3.12.1"
  }
 },
 "nbformat": 4,
 "nbformat_minor": 2
}
