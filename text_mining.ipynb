{
 "cells": [
  {
   "cell_type": "code",
   "execution_count": 2,
   "metadata": {},
   "outputs": [],
   "source": [
    "import os\n",
    "import csv\n",
    "from tqdm import tqdm # Tracking loading progress\n",
    "tqdm.pandas()\n",
    "# Preprocessing\n",
    "import nltk\n",
    "from nltk.stem import WordNetLemmatizer\n",
    "from nltk.stem import SnowballStemmer \n",
    "from nltk.stem import PorterStemmer\n",
    "#nltk.download('stopwords')\n",
    "from nltk.corpus import stopwords # Add MODERATOR TO THE STOPWORDS LIST\n",
    "#!python -m spacy download en_core_web_sm\n",
    "import spacy\n",
    "import pickle\n",
    "sp = spacy.load('en_core_web_sm')\n",
    "#Regex\n",
    "import re\n",
    "#getting a library of stopwords and defining a lemmatizer\n",
    "porter=SnowballStemmer(\"english\")\n",
    "lmtzr = WordNetLemmatizer()\n",
    "stop_words = set(stopwords.words('english'))\n",
    "#Text Mining & Dimensionality Reduction\n",
    "from matplotlib import pyplot as plt\n",
    "from sklearn.feature_extraction.text import TfidfTransformer, CountVectorizer, TfidfVectorizer\n",
    "from sklearn.decomposition import TruncatedSVD,LatentDirichletAllocation\n",
    "import pandas as pd\n",
    "import numpy as np\n",
    "import ast\n",
    "import re\n",
    "import seaborn as sns\n",
    "import matplotlib.pyplot as plt\n",
    "from collections import Counter\n",
    "\n",
    "import prepr_functions\n",
    "from prepr_functions import *"
   ]
  },
  {
   "cell_type": "markdown",
   "metadata": {},
   "source": [
    "## Loading data\n"
   ]
  },
  {
   "cell_type": "markdown",
   "metadata": {},
   "source": []
  }
 ],
 "metadata": {
  "kernelspec": {
   "display_name": "text_m",
   "language": "python",
   "name": "python3"
  },
  "language_info": {
   "codemirror_mode": {
    "name": "ipython",
    "version": 3
   },
   "file_extension": ".py",
   "mimetype": "text/x-python",
   "name": "python",
   "nbconvert_exporter": "python",
   "pygments_lexer": "ipython3",
   "version": "3.12.2"
  }
 },
 "nbformat": 4,
 "nbformat_minor": 2
}
