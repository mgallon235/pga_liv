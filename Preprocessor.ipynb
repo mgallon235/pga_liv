{
 "cells": [
  {
   "cell_type": "code",
   "execution_count": 119,
   "metadata": {},
   "outputs": [],
   "source": [
    "import pandas as pd\n",
    "import numpy as np\n",
    "import ast\n",
    "import re"
   ]
  },
  {
   "cell_type": "code",
   "execution_count": 102,
   "metadata": {},
   "outputs": [],
   "source": [
    "#Load data\n",
    "data = pd.read_csv('Press_Conferences.csv', index_col=0, converters={\"answer\": ast.literal_eval})\n",
    "#data = pd.read_csv('Press_Conferences.csv')"
   ]
  },
  {
   "cell_type": "code",
   "execution_count": 103,
   "metadata": {},
   "outputs": [
    {
     "name": "stdout",
     "output_type": "stream",
     "text": [
      "MODERATOR ('jon rahm', ['it', 'could', 'go', 'two', 'ways', 'right', 'something', 'special', 'going', 'on', 'or', \"i'm\", 'just', 'running', 'out', 'of', 'luck', 'already', 'so', 'i', \"don't\", 'know', 'i', 'knew', 'it', 'would', 'be', 'a', 'special', 'week', 'given', \"it's\", 'my', 'birthday', 'today', 'so', \"i'm\", 'hoping', \"it's\", 'the', 'beginning', 'of', 'a', 'lot', 'of', 'good', 'things', 'to', 'come'])\n",
      "MODERATOR ('jon rahm', ['yeah', 'on', 'i', 'hit', 'it', 'to', 'about', 'an', 'inch', 'and', 'justin', 'thomas', 'made', 'it', 'on', 'top', 'of', 'me', 'a', 'little', 'bit', 'of', 'revenge', 'on', 'that', 'hole', 'i', 'guess'])\n",
      "MODERATOR ('jon rahm', ['nothing', 'special', 'what', 'can', 'we', 'do', 'go', 'home', 'have', 'dinner', 'and', 'sleep', 'i', 'mean', \"there's\", 'nothing', 'else', 'we', 'can', 'do', 'hopefully', 'because', 'of', 'being', 'the', 'week', 'that', 'it', 'is', 'and', \"what's\", 'going', 'on', 'in', 'the', 'world', 'i', 'think', 'all', 'celebrations', 'are', 'going', 'to', 'have', 'to', 'be', 'postponed', 'to', 'when', \"it's\", 'obviously', 'a', 'little', 'less', 'dangerous'])\n",
      "MODERATOR ('jon rahm', [\"that's\", 'what', 'we', 'said', 'it', 'would', 'have', 'been', 'so', 'loud', 'because', 'that', 'ball', 'took', 'such', 'a', 'long', 'time', 'that', 'pin', 'is', 'all', 'the', 'way', 'back', 'and', 'it', 'kind', 'of', 'rode', 'the', 'edge', 'of', 'the', 'ridge', 'and', 'it', 'got', 'all', 'the', 'way', 'to', 'the', 'back', 'of', 'the', 'green', 'and', 'just', 'trickled', 'down', 'to', 'the', 'hole', 'it', 'would', 'have', 'been', 'a', 'really', 'special', 'one', 'it', 'would', 'have', 'been', 'so', 'loud', 'the', 'one', 'on', \"wouldn't\", 'because', \"there's\", 'not', 'that', 'many', 'people', 'but', 'the', 'one', 'on', 'would', 'have', 'been', 'extremely', 'loud', 'and', 'i', 'wishâ€‘â€‘', 'hopefully', 'i', 'can', 'do', 'it', 'again', 'and', 'see', 'what', 'it', 'is'])\n",
      "MODERATOR ('jon rahm', ['well', 'i', 'mean', 'when', 'we', 'were', 'all', 'at', 'home', 'quarantining', 'and', 'the', 'season', 'was', 'suspended', 'there', 'was', 'obviously', 'a', 'lot', 'of', 'doubt', 'of', 'the', 'masters', 'happening', 'right', 'we', 'all', 'knew', 'if', 'it', 'happened', 'it', 'was', 'going', 'to', 'happen', 'late', 'because', 'they', 'usually', 'come', 'out', 'of', 'overseed', 'in', 'midâ€‘october', 'it', 'was', 'a', 'scare', 'that', 'we', 'all', 'had', 'but', 'hey', 'if', 'the', 'only', 'chance', 'they', 'could', 'do', 'it', 'would', 'have', 'been', 'somewhere', 'like', 'thanksgiving', 'or', 'christmas', 'week', 'i', 'think', 'we', 'would', 'have', 'all', 'been', 'here', 'playing', 'this', 'tournament', \"we're\", 'just', 'glad', \"it's\", 'happening', 'in', 'a', 'week', 'that', \"doesn't\", 'coincide', 'with', 'any', 'big', 'holidays', 'for', 'example', 'and', 'the', 'fact', 'that', \"we're\", 'all', 'here', \"we're\", 'so', 'thankful', 'i', \"don't\", 'know', 'if', 'there', 'was', 'ever', 'a', 'chance', 'for', 'them', 'not', 'to', 'have', 'the', 'event', 'this', 'year', 'but', \"i'm\", 'sure', 'glad', 'that', 'the', 'event', 'happened'])\n"
     ]
    }
   ],
   "source": [
    "# Checking data\n",
    "for n, i in zip(data.iloc[19347:,]['question'],data.iloc[19347:,]['answer']):\n",
    "    print(n,i)"
   ]
  },
  {
   "cell_type": "code",
   "execution_count": 104,
   "metadata": {},
   "outputs": [
    {
     "name": "stdout",
     "output_type": "stream",
     "text": [
      "19352\n",
      "question\n",
      "MODERATOR    4023\n",
      "Name: count, dtype: int64\n"
     ]
    }
   ],
   "source": [
    "print(len(data['question']))\n",
    "print(data['question'][data['question'] == 'MODERATOR'].value_counts())"
   ]
  },
  {
   "cell_type": "markdown",
   "metadata": {},
   "source": [
    "We'll need to Review The Scraper loop to avoid questions beeing incorrectly classified as MODERATOR"
   ]
  },
  {
   "cell_type": "code",
   "execution_count": 121,
   "metadata": {},
   "outputs": [
    {
     "data": {
      "text/html": [
       "<div>\n",
       "<style scoped>\n",
       "    .dataframe tbody tr th:only-of-type {\n",
       "        vertical-align: middle;\n",
       "    }\n",
       "\n",
       "    .dataframe tbody tr th {\n",
       "        vertical-align: top;\n",
       "    }\n",
       "\n",
       "    .dataframe thead th {\n",
       "        text-align: right;\n",
       "    }\n",
       "</style>\n",
       "<table border=\"1\" class=\"dataframe\">\n",
       "  <thead>\n",
       "    <tr style=\"text-align: right;\">\n",
       "      <th></th>\n",
       "      <th>question</th>\n",
       "      <th>answer</th>\n",
       "    </tr>\n",
       "    <tr>\n",
       "      <th>date</th>\n",
       "      <th></th>\n",
       "      <th></th>\n",
       "    </tr>\n",
       "  </thead>\n",
       "  <tbody>\n",
       "    <tr>\n",
       "      <th>March 3, 2024</th>\n",
       "      <td>a    little    bit    of    a    race    to ...</td>\n",
       "      <td>(rory mcilroy, [a, week, that, could, have, be...</td>\n",
       "    </tr>\n",
       "    <tr>\n",
       "      <th>March 3, 2024</th>\n",
       "      <td>you    added    this    event    added    va...</td>\n",
       "      <td>(rory mcilroy, [yeah, if, anything, i'm, just,...</td>\n",
       "    </tr>\n",
       "    <tr>\n",
       "      <th>March 3, 2024</th>\n",
       "      <td>unless    you    really    think    about   ...</td>\n",
       "      <td>(rory mcilroy, [i'm, really, happy, i, got, do...</td>\n",
       "    </tr>\n",
       "    <tr>\n",
       "      <th>March 3, 2024</th>\n",
       "      <td>with    shane    kind    of    in    content...</td>\n",
       "      <td>(rory mcilroy, [it, would, mean, a, lot, he, l...</td>\n",
       "    </tr>\n",
       "    <tr>\n",
       "      <th>February 29, 2024</th>\n",
       "      <td>what    did    you    think    of    your   ...</td>\n",
       "      <td>(rory mcilroy, [pretty, solid, some, good, som...</td>\n",
       "    </tr>\n",
       "    <tr>\n",
       "      <th>...</th>\n",
       "      <td>...</td>\n",
       "      <td>...</td>\n",
       "    </tr>\n",
       "    <tr>\n",
       "      <th>November 10, 2020</th>\n",
       "      <td>MODERATOR</td>\n",
       "      <td>(jon rahm, [it, could, go, two, ways, right, s...</td>\n",
       "    </tr>\n",
       "    <tr>\n",
       "      <th>November 10, 2020</th>\n",
       "      <td>MODERATOR</td>\n",
       "      <td>(jon rahm, [yeah, on, i, hit, it, to, about, a...</td>\n",
       "    </tr>\n",
       "    <tr>\n",
       "      <th>November 10, 2020</th>\n",
       "      <td>MODERATOR</td>\n",
       "      <td>(jon rahm, [nothing, special, what, can, we, d...</td>\n",
       "    </tr>\n",
       "    <tr>\n",
       "      <th>November 10, 2020</th>\n",
       "      <td>MODERATOR</td>\n",
       "      <td>(jon rahm, [that's, what, we, said, it, would,...</td>\n",
       "    </tr>\n",
       "    <tr>\n",
       "      <th>November 10, 2020</th>\n",
       "      <td>MODERATOR</td>\n",
       "      <td>(jon rahm, [well, i, mean, when, we, were, all...</td>\n",
       "    </tr>\n",
       "  </tbody>\n",
       "</table>\n",
       "<p>19352 rows × 2 columns</p>\n",
       "</div>"
      ],
      "text/plain": [
       "                                                            question  \\\n",
       "date                                                                   \n",
       "March 3, 2024        a    little    bit    of    a    race    to ...   \n",
       "March 3, 2024        you    added    this    event    added    va...   \n",
       "March 3, 2024        unless    you    really    think    about   ...   \n",
       "March 3, 2024        with    shane    kind    of    in    content...   \n",
       "February 29, 2024    what    did    you    think    of    your   ...   \n",
       "...                                                              ...   \n",
       "November 10, 2020                                          MODERATOR   \n",
       "November 10, 2020                                          MODERATOR   \n",
       "November 10, 2020                                          MODERATOR   \n",
       "November 10, 2020                                          MODERATOR   \n",
       "November 10, 2020                                          MODERATOR   \n",
       "\n",
       "                                                              answer  \n",
       "date                                                                  \n",
       "March 3, 2024      (rory mcilroy, [a, week, that, could, have, be...  \n",
       "March 3, 2024      (rory mcilroy, [yeah, if, anything, i'm, just,...  \n",
       "March 3, 2024      (rory mcilroy, [i'm, really, happy, i, got, do...  \n",
       "March 3, 2024      (rory mcilroy, [it, would, mean, a, lot, he, l...  \n",
       "February 29, 2024  (rory mcilroy, [pretty, solid, some, good, som...  \n",
       "...                                                              ...  \n",
       "November 10, 2020  (jon rahm, [it, could, go, two, ways, right, s...  \n",
       "November 10, 2020  (jon rahm, [yeah, on, i, hit, it, to, about, a...  \n",
       "November 10, 2020  (jon rahm, [nothing, special, what, can, we, d...  \n",
       "November 10, 2020  (jon rahm, [that's, what, we, said, it, would,...  \n",
       "November 10, 2020  (jon rahm, [well, i, mean, when, we, were, all...  \n",
       "\n",
       "[19352 rows x 2 columns]"
      ]
     },
     "execution_count": 121,
     "metadata": {},
     "output_type": "execute_result"
    }
   ],
   "source": [
    "data"
   ]
  },
  {
   "cell_type": "code",
   "execution_count": 120,
   "metadata": {},
   "outputs": [],
   "source": [
    "#Transform questions using Regex to leave only text\n",
    "data['question'] = data['question'].str.replace(r\"[\\['\\],]\", ' ', regex=True)"
   ]
  },
  {
   "cell_type": "code",
   "execution_count": 118,
   "metadata": {},
   "outputs": [
    {
     "data": {
      "text/plain": [
       "date\n",
       "March 3, 2024        ['a', 'little', 'bit', 'of', 'a', 'race', 'to'...\n",
       "March 3, 2024        ['you', 'added', 'this', 'event', 'added', 'va...\n",
       "March 3, 2024        ['unless', 'you', 'really', 'think', 'about', ...\n",
       "March 3, 2024        ['with', 'shane', 'kind', 'of', 'in', 'content...\n",
       "February 29, 2024    ['what', 'did', 'you', 'think', 'of', 'your', ...\n",
       "                                           ...                        \n",
       "November 10, 2020                                            MODERATOR\n",
       "November 10, 2020                                            MODERATOR\n",
       "November 10, 2020                                            MODERATOR\n",
       "November 10, 2020                                            MODERATOR\n",
       "November 10, 2020                                            MODERATOR\n",
       "Name: question, Length: 19352, dtype: object"
      ]
     },
     "execution_count": 118,
     "metadata": {},
     "output_type": "execute_result"
    }
   ],
   "source": [
    "data.question"
   ]
  }
 ],
 "metadata": {
  "kernelspec": {
   "display_name": "text_m",
   "language": "python",
   "name": "python3"
  },
  "language_info": {
   "codemirror_mode": {
    "name": "ipython",
    "version": 3
   },
   "file_extension": ".py",
   "mimetype": "text/x-python",
   "name": "python",
   "nbconvert_exporter": "python",
   "pygments_lexer": "ipython3",
   "version": "3.12.2"
  }
 },
 "nbformat": 4,
 "nbformat_minor": 2
}
