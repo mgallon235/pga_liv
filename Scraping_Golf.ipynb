{
 "cells": [
  {
   "cell_type": "code",
   "execution_count": 2,
   "metadata": {},
   "outputs": [],
   "source": [
    "import requests\n",
    "from bs4 import BeautifulSoup\n",
    "import pandas as pd\n",
    "from datetime import datetime\n"
   ]
  },
  {
   "cell_type": "markdown",
   "metadata": {},
   "source": [
    "## Players Dictionary"
   ]
  },
  {
   "cell_type": "code",
   "execution_count": 3,
   "metadata": {},
   "outputs": [],
   "source": [
    "players_names = {'Rory McIlroy': '17419',\n",
    "            'Tiger Woods': '10085', \n",
    "            'Jordan Spieth': '19976',\n",
    "            'Justin Thomas': '20037',\n",
    "            'Scottie Scheffler': '25786',\n",
    "            'Collin Morikawa': '33992',\n",
    "            'Sergio García': '10170',\n",
    "            'Dustin Johnson': '17976',\n",
    "            'Phil Mickelson': '10083',\n",
    "            'Ian Poulter': '11956',\n",
    "            'Talor Gooch': '27168',\n",
    "            'Cameron Smith': '27755',\n",
    "            'Joaquín Niemann': '33997',\n",
    "            'Bryson DeChambeau': '29148',\n",
    "            'Brooks Koepka': '25730',\n",
    "            'Jon Rahm': '28177'}"
   ]
  },
  {
   "cell_type": "markdown",
   "metadata": {},
   "source": [
    "### This will get all the text (paragraphs) for a given interview. We would still need the date for our analysis. \n",
    "\n",
    "#### We then need to loop for all the interviews"
   ]
  },
  {
   "cell_type": "code",
   "execution_count": 3,
   "metadata": {},
   "outputs": [],
   "source": [
    "url_base = 'https://www.asapsports.com/show_interview.php?id=194133'\n",
    "response = requests.get(url_base)\n",
    "soup = BeautifulSoup(response.text, 'html.parser')\n",
    "\n",
    "paragraphs = soup.find_all('p')"
   ]
  },
  {
   "cell_type": "markdown",
   "metadata": {},
   "source": [
    "### We want to get all the dates and urls for each of the player's pages"
   ]
  },
  {
   "cell_type": "code",
   "execution_count": 4,
   "metadata": {},
   "outputs": [],
   "source": [
    "niemann_url = 'https://www.asapsports.com/show_player.php?id=33997'\n",
    "\n",
    "date = '/html/body/table[1]/tbody/tr[2]/td/table/tbody/tr[1]/td[4]/table/tbody/tr[1]/td[2]/b/nobr'\n",
    "link = '/html/body/table[1]/tbody/tr[2]/td/table/tbody/tr[1]/td[4]/table/tbody/tr[1]/td[3]/b/a'\n",
    "\n",
    "response = requests.get(niemann_url)\n",
    "soup = BeautifulSoup(response.text, 'html.parser')\n",
    "dates_niemann = soup.find_all('b')"
   ]
  },
  {
   "cell_type": "code",
   "execution_count": 8,
   "metadata": {},
   "outputs": [],
   "source": [
    "dates = []\n",
    "\n",
    "for row in dates_niemann:\n",
    "        nobr_tags = soup.find_all('nobr')\n",
    "        \n",
    "for nobr in nobr_tags:\n",
    "            date_text = nobr.get_text()\n",
    "            dates.append(date_text)            "
   ]
  },
  {
   "cell_type": "code",
   "execution_count": 9,
   "metadata": {},
   "outputs": [],
   "source": [
    "links = []\n",
    "\n",
    "for row in dates_niemann:\n",
    "        a_tags = soup.find_all('a', href=True)\n",
    "        \n",
    "for atag in a_tags:\n",
    "    url = atag['href']\n",
    "    if url.startswith('http://www.asapsports.com/show_interview.php?id='):\n",
    "         links.append(url)"
   ]
  },
  {
   "cell_type": "code",
   "execution_count": 14,
   "metadata": {},
   "outputs": [
    {
     "name": "stdout",
     "output_type": "stream",
     "text": [
      "96 97\n"
     ]
    }
   ],
   "source": [
    "print(len(links),len(dates))\n",
    "# date_links = pd.DataFrame(dates,links)\n",
    "        \n"
   ]
  },
  {
   "cell_type": "code",
   "execution_count": 17,
   "metadata": {},
   "outputs": [
    {
     "name": "stdout",
     "output_type": "stream",
     "text": [
      "[ March 3, 2024 ] http://www.asapsports.com/show_interview.php?id=194496\n",
      "[ March 2, 2024 ] http://www.asapsports.com/show_interview.php?id=194475\n",
      "[ March 1, 2024 ] http://www.asapsports.com/show_interview.php?id=194453\n",
      "[ February 4, 2024 ] http://www.asapsports.com/show_interview.php?id=194119\n",
      "[ February 3, 2024 ] http://www.asapsports.com/show_interview.php?id=194102\n",
      "[ February 2, 2024 ] http://www.asapsports.com/show_interview.php?id=194088\n",
      "[ February 1, 2024 ] http://www.asapsports.com/show_interview.php?id=194067\n",
      "[ October 21, 2023 ] http://www.asapsports.com/show_interview.php?id=192191\n",
      "[ October 20, 2023 ] http://www.asapsports.com/show_interview.php?id=192157\n",
      "[ October 19, 2023 ] http://www.asapsports.com/show_interview.php?id=192088\n",
      "[ August 6, 2023 ] http://www.asapsports.com/show_interview.php?id=189860\n",
      "[ August 4, 2023 ] http://www.asapsports.com/show_interview.php?id=189828\n",
      "[ August 2, 2023 ] http://www.asapsports.com/show_interview.php?id=189786\n",
      "[ July 2, 2023 ] http://www.asapsports.com/show_interview.php?id=188789\n",
      "[ June 29, 2023 ] http://www.asapsports.com/show_interview.php?id=188683\n",
      "[ May 28, 2023 ] http://www.asapsports.com/show_interview.php?id=187555\n",
      "[ April 9, 2023 ] http://www.asapsports.com/show_interview.php?id=186323\n",
      "[ April 7, 2023 ] http://www.asapsports.com/show_interview.php?id=186286\n",
      "[ April 6, 2023 ] http://www.asapsports.com/show_interview.php?id=186227\n",
      "[ April 3, 2023 ] http://www.asapsports.com/show_interview.php?id=186192\n",
      "[ April 2, 2023 ] http://www.asapsports.com/show_interview.php?id=186126\n",
      "[ March 17, 2023 ] http://www.asapsports.com/show_interview.php?id=185310\n",
      "[ February 23, 2023 ] http://www.asapsports.com/show_interview.php?id=183927\n",
      "[ October 26, 2022 ] http://www.asapsports.com/show_interview.php?id=181615\n",
      "[ September 15, 2022 ] http://www.asapsports.com/show_interview.php?id=180143\n",
      "[ September 2, 2022 ] http://www.asapsports.com/show_interview.php?id=179684\n",
      "[ August 25, 2022 ] http://www.asapsports.com/show_interview.php?id=179544\n",
      "[ August 20, 2022 ] http://www.asapsports.com/show_interview.php?id=179442\n",
      "[ August 19, 2022 ] http://www.asapsports.com/show_interview.php?id=179423\n",
      "[ June 5, 2022 ] http://www.asapsports.com/show_interview.php?id=177030\n",
      "[ May 22, 2022 ] http://www.asapsports.com/show_interview.php?id=176278\n",
      "[ May 21, 2022 ] http://www.asapsports.com/show_interview.php?id=176255\n",
      "[ May 20, 2022 ] http://www.asapsports.com/show_interview.php?id=176204\n",
      "[ May 19, 2022 ] http://www.asapsports.com/show_interview.php?id=176191\n",
      "[ May 18, 2022 ] http://www.asapsports.com/show_interview.php?id=176132\n",
      "[ May 14, 2022 ] http://www.asapsports.com/show_interview.php?id=176047\n",
      "[ May 13, 2022 ] http://www.asapsports.com/show_interview.php?id=176019\n",
      "[ April 15, 2022 ] http://www.asapsports.com/show_interview.php?id=175510\n",
      "[ April 14, 2022 ] http://www.asapsports.com/show_interview.php?id=175494\n",
      "[ April 10, 2022 ] http://www.asapsports.com/show_interview.php?id=175373\n",
      "[ April 8, 2022 ] http://www.asapsports.com/show_interview.php?id=175308\n",
      "[ April 7, 2022 ] http://www.asapsports.com/show_interview.php?id=175226\n",
      "[ April 6, 2022 ] http://www.asapsports.com/show_interview.php?id=175179\n",
      "[ April 4, 2022 ] http://www.asapsports.com/show_interview.php?id=175151\n",
      "[ March 24, 2022 ] http://www.asapsports.com/show_interview.php?id=174705\n",
      "[ March 10, 2022 ] http://www.asapsports.com/show_interview.php?id=173678\n",
      "[ February 22, 2022 ] http://www.asapsports.com/show_interview.php?id=173220\n",
      "[ September 5, 2021 ] http://www.asapsports.com/show_interview.php?id=169102\n",
      "[ July 16, 2021 ] http://www.asapsports.com/show_interview.php?id=167731\n",
      "[ July 15, 2021 ] http://www.asapsports.com/show_interview.php?id=167678\n",
      "[ May 22, 2021 ] http://www.asapsports.com/show_interview.php?id=165234\n",
      "[ May 21, 2021 ] http://www.asapsports.com/show_interview.php?id=165182\n",
      "[ May 20, 2021 ] http://www.asapsports.com/show_interview.php?id=165151\n",
      "[ May 1, 2021 ] http://www.asapsports.com/show_interview.php?id=164765\n",
      "[ April 30, 2021 ] http://www.asapsports.com/show_interview.php?id=164744\n",
      "[ April 11, 2021 ] http://www.asapsports.com/show_interview.php?id=164328\n",
      "[ April 10, 2021 ] http://www.asapsports.com/show_interview.php?id=164282\n",
      "[ April 9, 2021 ] http://www.asapsports.com/show_interview.php?id=164268\n",
      "[ April 8, 2021 ] http://www.asapsports.com/show_interview.php?id=164194\n",
      "[ March 26, 2021 ] http://www.asapsports.com/show_interview.php?id=163708\n",
      "[ March 17, 2021 ] http://www.asapsports.com/show_interview.php?id=163369\n",
      "[ January 17, 2021 ] http://www.asapsports.com/show_interview.php?id=161786\n",
      "[ January 16, 2021 ] http://www.asapsports.com/show_interview.php?id=161771\n",
      "[ January 15, 2021 ] http://www.asapsports.com/show_interview.php?id=161758\n",
      "[ January 14, 2021 ] http://www.asapsports.com/show_interview.php?id=161732\n",
      "[ January 12, 2021 ] http://www.asapsports.com/show_interview.php?id=161721\n",
      "[ January 10, 2021 ] http://www.asapsports.com/show_interview.php?id=161692\n",
      "[ August 30, 2020 ] http://www.asapsports.com/show_interview.php?id=159238\n",
      "[ August 29, 2020 ] http://www.asapsports.com/show_interview.php?id=159210\n",
      "[ June 21, 2020 ] http://www.asapsports.com/show_interview.php?id=158115\n",
      "[ June 20, 2020 ] http://www.asapsports.com/show_interview.php?id=158098\n",
      "[ June 20, 2020 ] http://www.asapsports.com/show_interview.php?id=158097\n",
      "[ January 3, 2020 ] http://www.asapsports.com/show_interview.php?id=156262\n",
      "[ January 2, 2020 ] http://www.asapsports.com/show_interview.php?id=156236\n",
      "[ December 15, 2019 ] http://www.asapsports.com/show_interview.php?id=155990\n",
      "[ December 14, 2019 ] http://www.asapsports.com/show_interview.php?id=155966\n",
      "[ December 11, 2019 ] http://www.asapsports.com/show_interview.php?id=155892\n",
      "[ November 6, 2019 ] http://www.asapsports.com/show_interview.php?id=153716\n",
      "[ September 19, 2019 ] http://www.asapsports.com/show_interview.php?id=153681\n",
      "[ September 18, 2019 ] http://www.asapsports.com/show_interview.php?id=153605\n",
      "[ September 15, 2019 ] http://www.asapsports.com/show_interview.php?id=153576\n",
      "[ September 14, 2019 ] http://www.asapsports.com/show_interview.php?id=153543\n",
      "[ September 13, 2019 ] http://www.asapsports.com/show_interview.php?id=153524\n",
      "[ September 12, 2019 ] http://www.asapsports.com/show_interview.php?id=152793\n",
      "[ August 11, 2019 ] http://www.asapsports.com/show_interview.php?id=151363\n",
      "[ June 23, 2019 ] http://www.asapsports.com/show_interview.php?id=142437\n",
      "[ July 27, 2018 ] http://www.asapsports.com/show_interview.php?id=141628\n",
      "[ July 10, 2018 ] http://www.asapsports.com/show_interview.php?id=141525\n",
      "[ July 5, 2018 ] http://www.asapsports.com/show_interview.php?id=140619\n",
      "[ June 3, 2018 ] http://www.asapsports.com/show_interview.php?id=140557\n",
      "[ June 2, 2018 ] http://www.asapsports.com/show_interview.php?id=140511\n",
      "[ June 1, 2018 ] http://www.asapsports.com/show_interview.php?id=140434\n",
      "[ May 31, 2018 ] http://www.asapsports.com/show_interview.php?id=139054\n",
      "[ April 3, 2018 ] http://www.asapsports.com/show_interview.php?id=132999\n",
      "[ August 16, 2017 ] http://www.asapsports.com/show_interview.php?id=132974\n",
      "[ August 15, 2017 ] http://www.asapsports.com/show_interview.php?id=132960\n"
     ]
    }
   ],
   "source": [
    "for i in range(len(links)):\n",
    "    print( dates[i], links[i])"
   ]
  },
  {
   "cell_type": "code",
   "execution_count": null,
   "metadata": {},
   "outputs": [],
   "source": []
  }
 ],
 "metadata": {
  "kernelspec": {
   "display_name": "IntroTxtEnv",
   "language": "python",
   "name": "python3"
  },
  "language_info": {
   "codemirror_mode": {
    "name": "ipython",
    "version": 3
   },
   "file_extension": ".py",
   "mimetype": "text/x-python",
   "name": "python",
   "nbconvert_exporter": "python",
   "pygments_lexer": "ipython3",
   "version": "3.12.1"
  }
 },
 "nbformat": 4,
 "nbformat_minor": 2
}
